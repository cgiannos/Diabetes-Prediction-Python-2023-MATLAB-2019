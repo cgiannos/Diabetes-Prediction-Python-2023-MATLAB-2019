{
  "cells": [
    {
      "cell_type": "markdown",
      "metadata": {
        "id": "Dv7UKdyCAnqD"
      },
      "source": [
        "## TEAM MsC Course - NTUA\n",
        "### Biostatistics & Machine Learning\n",
        "###1st student assignement\n",
        "##### Academic Year 2023-24\n",
        "\n"
      ]
    },
    {
      "cell_type": "markdown",
      "metadata": {
        "id": "hL5bHZx06KZc"
      },
      "source": [
        "# ⚠️\n",
        "`It should be pointed out that it is forbidden to post the solutions of the assignment on github, or on other websites. The design and content of the assignments are the intellectual property of the teaching staff of the course.`"
      ]
    },
    {
      "cell_type": "markdown",
      "metadata": {
        "id": "vqmQiAojwM3Z"
      },
      "source": [
        " `⚠️ The provided dataset must not be enriched in any way. Submisisons that will use enriched data sets will not be graded.`"
      ]
    },
    {
      "cell_type": "markdown",
      "metadata": {
        "id": "oAx-ib_pBrq9"
      },
      "source": [
        "Student Name: Ioannis Charalampous\n",
        "\n",
        "ID: 03500053"
      ]
    },
    {
      "cell_type": "markdown",
      "metadata": {
        "id": "M7IkqlgaGLr2"
      },
      "source": [
        "### 1. Dataset import\n",
        "\n",
        "We will be using the [Healthcare Diabetes Dataset](https://www.kaggle.com/datasets/nanditapore/healthcare-diabetes). Download it from [this link](https://drive.google.com/file/d/1qkPVFW6Tv9dDXCQjpnftq_Qer3mPUGpk/view?usp=sharing) and import it into this notebook. Then split it on a training and a test set using the *train_test_split()* method from the submodule model_selection of sci-kit learn, after you perform the Exploratory Data Analysis Steps of Section 2. Use the last three digits of your ID number as the `random_state` parameter to *train_test_split()*\n",
        "\n",
        "\n"
      ]
    },
    {
      "cell_type": "code",
      "execution_count": 1,
      "metadata": {
        "id": "fbQtw6iYBrJk"
      },
      "outputs": [],
      "source": [
        "import numpy as np\n",
        "import pandas as pd\n",
        "import seaborn as sns\n",
        "from matplotlib import pyplot as plt\n",
        "from sklearn.model_selection import train_test_split\n",
        "from sklearn.preprocessing import StandardScaler\n",
        "from sklearn.compose import ColumnTransformer\n",
        "from sklearn.impute import SimpleImputer\n",
        "from sklearn.preprocessing import OneHotEncoder\n",
        "from sklearn.pipeline import Pipeline\n",
        "\n",
        "data = pd.read_csv(\"C:/Users/giannos/Desktop/Healthcare-Diabetes.csv\")"
      ]
    },
    {
      "cell_type": "markdown",
      "metadata": {
        "id": "wrxF1hO1HPpJ"
      },
      "source": [
        "### 2. Exploratory Data Analysis (EDA)\n",
        "\n",
        "Use code cells with the appropriate EDA techniques to inspect the data set and text cells to explain the results. You may use more code and text ce"
      ]
    },
    {
      "cell_type": "markdown",
      "metadata": {
        "id": "fT33H0HPJ7Hg"
      },
      "source": [
        "Using the appropriate methods, write the relevant code to answer the following questions:\n",
        "\n",
        "2a. the number of samples and features of the data set\n",
        "\n",
        "2b. the type of the features of the data set,\n",
        "\n",
        "2c. the attribute labels,\n",
        "\n",
        "2d. the number of categories,\n",
        "\n",
        "2e. how many samples belong to each category,\n",
        "\n",
        "2f. the correlation between the data,\n",
        "\n",
        "2g. any other analysis you find useful for understanding the data set."
      ]
    },
    {
      "cell_type": "code",
      "execution_count": 2,
      "metadata": {},
      "outputs": [
        {
          "name": "stdout",
          "output_type": "stream",
          "text": [
            "<class 'pandas.core.frame.DataFrame'>\n",
            "RangeIndex: 2768 entries, 0 to 2767\n",
            "Data columns (total 10 columns):\n",
            " #   Column                    Non-Null Count  Dtype  \n",
            "---  ------                    --------------  -----  \n",
            " 0   Id                        2768 non-null   int64  \n",
            " 1   Pregnancies               2768 non-null   int64  \n",
            " 2   Glucose                   2768 non-null   int64  \n",
            " 3   BloodPressure             2768 non-null   int64  \n",
            " 4   SkinThickness             2768 non-null   int64  \n",
            " 5   Insulin                   2768 non-null   int64  \n",
            " 6   BMI                       2768 non-null   float64\n",
            " 7   DiabetesPedigreeFunction  2768 non-null   float64\n",
            " 8   Age                       2768 non-null   int64  \n",
            " 9   Outcome                   2768 non-null   int64  \n",
            "dtypes: float64(2), int64(8)\n",
            "memory usage: 216.4 KB\n"
          ]
        }
      ],
      "source": [
        "# 2a.\n",
        "\n",
        "data.info()"
      ]
    },
    {
      "cell_type": "code",
      "execution_count": 3,
      "metadata": {},
      "outputs": [],
      "source": [
        "# The dataset has 2768 rows (samples) and 10 columns from which the 8 columns from 1 to 8 in the display are the features. \n",
        "# The first column Id is the id number of each sample which is the unique identifier for every sample and has no value in the classification\n",
        "# and will be excluded and the last column Outcome is the labels of the dataset.\n",
        "# The columns \"Pregnancies\",\"Glucose\",\"BloodPressure\",\"SkinThickness\",\"Insulin\",\"BMI\",\"DiabetesPedigreeFunction\",\"Age\" are the features."
      ]
    },
    {
      "cell_type": "code",
      "execution_count": 4,
      "metadata": {},
      "outputs": [
        {
          "data": {
            "text/plain": [
              "<bound method NDFrame.head of         Id  Pregnancies  Glucose  BloodPressure  SkinThickness  Insulin   BMI  \\\n",
              "0        1            6      148             72             35        0  33.6   \n",
              "1        2            1       85             66             29        0  26.6   \n",
              "2        3            8      183             64              0        0  23.3   \n",
              "3        4            1       89             66             23       94  28.1   \n",
              "4        5            0      137             40             35      168  43.1   \n",
              "...    ...          ...      ...            ...            ...      ...   ...   \n",
              "2763  2764            2       75             64             24       55  29.7   \n",
              "2764  2765            8      179             72             42      130  32.7   \n",
              "2765  2766            6       85             78              0        0  31.2   \n",
              "2766  2767            0      129            110             46      130  67.1   \n",
              "2767  2768            2       81             72             15       76  30.1   \n",
              "\n",
              "      DiabetesPedigreeFunction  Age  Outcome  \n",
              "0                        0.627   50        1  \n",
              "1                        0.351   31        0  \n",
              "2                        0.672   32        1  \n",
              "3                        0.167   21        0  \n",
              "4                        2.288   33        1  \n",
              "...                        ...  ...      ...  \n",
              "2763                     0.370   33        0  \n",
              "2764                     0.719   36        1  \n",
              "2765                     0.382   42        0  \n",
              "2766                     0.319   26        1  \n",
              "2767                     0.547   25        0  \n",
              "\n",
              "[2768 rows x 10 columns]>"
            ]
          },
          "execution_count": 4,
          "metadata": {},
          "output_type": "execute_result"
        }
      ],
      "source": [
        "# 2b.\n",
        "data.head"
      ]
    },
    {
      "cell_type": "code",
      "execution_count": 5,
      "metadata": {},
      "outputs": [],
      "source": [
        "# We can see from the functions info() and head that all the features have numerical values. \n",
        "# All the features are integers instead of the features BMI and DiabetesPedigreeFunction that are floats."
      ]
    },
    {
      "cell_type": "code",
      "execution_count": 6,
      "metadata": {},
      "outputs": [
        {
          "data": {
            "text/plain": [
              "array([1, 0], dtype=int64)"
            ]
          },
          "execution_count": 6,
          "metadata": {},
          "output_type": "execute_result"
        }
      ],
      "source": [
        "# 2c.\n",
        "data['Outcome'].unique()"
      ]
    },
    {
      "cell_type": "code",
      "execution_count": 7,
      "metadata": {},
      "outputs": [
        {
          "name": "stdout",
          "output_type": "stream",
          "text": [
            "binary\n"
          ]
        }
      ],
      "source": [
        "for i in data[\"Outcome\"]:\n",
        "    if i>1 or i<0:\n",
        "        flag='not binary'\n",
        "    else:\n",
        "        flag='binary'\n",
        "print(flag)"
      ]
    },
    {
      "cell_type": "code",
      "execution_count": 8,
      "metadata": {},
      "outputs": [],
      "source": [
        "# The above cells show that every value of the column Outcome has only 0 and 1 values (binary).\n",
        "# So the atributte labels which is the column Outcome has two possible values 0 or 1 "
      ]
    },
    {
      "cell_type": "code",
      "execution_count": 9,
      "metadata": {},
      "outputs": [],
      "source": [
        "# 2d.\n",
        "#  The categories are the values of the column Outcome 0 or 1\n",
        "# Category 0 is when the patient didn't have diabetes\n",
        "# Category 1 is when the patient had diabetes"
      ]
    },
    {
      "cell_type": "code",
      "execution_count": 10,
      "metadata": {},
      "outputs": [
        {
          "name": "stdout",
          "output_type": "stream",
          "text": [
            "Category 0 :  1816\n",
            "Category 1 :  952\n"
          ]
        }
      ],
      "source": [
        "# 2e.\n",
        "\n",
        "ones=0\n",
        "zeros=0\n",
        "for i in data[\"Outcome\"]:\n",
        "    if i==1:\n",
        "        ones+=1\n",
        "    else:\n",
        "        zeros+=1\n",
        "print(\"Category 0 : \",zeros)\n",
        "print(\"Category 1 : \",ones)"
      ]
    },
    {
      "cell_type": "code",
      "execution_count": 11,
      "metadata": {},
      "outputs": [],
      "source": [
        "# From the above cell that counts the samples of each category we can see that Category 0 has 1816 samples and Category 1 has 952 samples to a total of 2768 samples."
      ]
    },
    {
      "cell_type": "code",
      "execution_count": 12,
      "metadata": {},
      "outputs": [
        {
          "data": {
            "text/html": [
              "<div>\n",
              "<style scoped>\n",
              "    .dataframe tbody tr th:only-of-type {\n",
              "        vertical-align: middle;\n",
              "    }\n",
              "\n",
              "    .dataframe tbody tr th {\n",
              "        vertical-align: top;\n",
              "    }\n",
              "\n",
              "    .dataframe thead th {\n",
              "        text-align: right;\n",
              "    }\n",
              "</style>\n",
              "<table border=\"1\" class=\"dataframe\">\n",
              "  <thead>\n",
              "    <tr style=\"text-align: right;\">\n",
              "      <th></th>\n",
              "      <th>Id</th>\n",
              "      <th>Pregnancies</th>\n",
              "      <th>Glucose</th>\n",
              "      <th>BloodPressure</th>\n",
              "      <th>SkinThickness</th>\n",
              "      <th>Insulin</th>\n",
              "      <th>BMI</th>\n",
              "      <th>DiabetesPedigreeFunction</th>\n",
              "      <th>Age</th>\n",
              "      <th>Outcome</th>\n",
              "    </tr>\n",
              "  </thead>\n",
              "  <tbody>\n",
              "    <tr>\n",
              "      <th>Id</th>\n",
              "      <td>1.000000</td>\n",
              "      <td>-0.024222</td>\n",
              "      <td>0.015010</td>\n",
              "      <td>0.009717</td>\n",
              "      <td>0.017702</td>\n",
              "      <td>0.007359</td>\n",
              "      <td>0.024007</td>\n",
              "      <td>-0.009695</td>\n",
              "      <td>-0.007404</td>\n",
              "      <td>-0.006298</td>\n",
              "    </tr>\n",
              "    <tr>\n",
              "      <th>Pregnancies</th>\n",
              "      <td>-0.024222</td>\n",
              "      <td>1.000000</td>\n",
              "      <td>0.122839</td>\n",
              "      <td>0.147253</td>\n",
              "      <td>-0.068673</td>\n",
              "      <td>-0.075734</td>\n",
              "      <td>0.018761</td>\n",
              "      <td>-0.027731</td>\n",
              "      <td>0.540805</td>\n",
              "      <td>0.223796</td>\n",
              "    </tr>\n",
              "    <tr>\n",
              "      <th>Glucose</th>\n",
              "      <td>0.015010</td>\n",
              "      <td>0.122839</td>\n",
              "      <td>1.000000</td>\n",
              "      <td>0.142095</td>\n",
              "      <td>0.061023</td>\n",
              "      <td>0.323445</td>\n",
              "      <td>0.225308</td>\n",
              "      <td>0.127195</td>\n",
              "      <td>0.256958</td>\n",
              "      <td>0.460644</td>\n",
              "    </tr>\n",
              "    <tr>\n",
              "      <th>BloodPressure</th>\n",
              "      <td>0.009717</td>\n",
              "      <td>0.147253</td>\n",
              "      <td>0.142095</td>\n",
              "      <td>1.000000</td>\n",
              "      <td>0.201167</td>\n",
              "      <td>0.087823</td>\n",
              "      <td>0.281560</td>\n",
              "      <td>0.048471</td>\n",
              "      <td>0.238684</td>\n",
              "      <td>0.072900</td>\n",
              "    </tr>\n",
              "    <tr>\n",
              "      <th>SkinThickness</th>\n",
              "      <td>0.017702</td>\n",
              "      <td>-0.068673</td>\n",
              "      <td>0.061023</td>\n",
              "      <td>0.201167</td>\n",
              "      <td>1.000000</td>\n",
              "      <td>0.445345</td>\n",
              "      <td>0.393494</td>\n",
              "      <td>0.179830</td>\n",
              "      <td>-0.111895</td>\n",
              "      <td>0.075603</td>\n",
              "    </tr>\n",
              "    <tr>\n",
              "      <th>Insulin</th>\n",
              "      <td>0.007359</td>\n",
              "      <td>-0.075734</td>\n",
              "      <td>0.323445</td>\n",
              "      <td>0.087823</td>\n",
              "      <td>0.445345</td>\n",
              "      <td>1.000000</td>\n",
              "      <td>0.215926</td>\n",
              "      <td>0.190500</td>\n",
              "      <td>-0.073458</td>\n",
              "      <td>0.123646</td>\n",
              "    </tr>\n",
              "    <tr>\n",
              "      <th>BMI</th>\n",
              "      <td>0.024007</td>\n",
              "      <td>0.018761</td>\n",
              "      <td>0.225308</td>\n",
              "      <td>0.281560</td>\n",
              "      <td>0.393494</td>\n",
              "      <td>0.215926</td>\n",
              "      <td>1.000000</td>\n",
              "      <td>0.129766</td>\n",
              "      <td>0.038175</td>\n",
              "      <td>0.280928</td>\n",
              "    </tr>\n",
              "    <tr>\n",
              "      <th>DiabetesPedigreeFunction</th>\n",
              "      <td>-0.009695</td>\n",
              "      <td>-0.027731</td>\n",
              "      <td>0.127195</td>\n",
              "      <td>0.048471</td>\n",
              "      <td>0.179830</td>\n",
              "      <td>0.190500</td>\n",
              "      <td>0.129766</td>\n",
              "      <td>1.000000</td>\n",
              "      <td>0.028544</td>\n",
              "      <td>0.160664</td>\n",
              "    </tr>\n",
              "    <tr>\n",
              "      <th>Age</th>\n",
              "      <td>-0.007404</td>\n",
              "      <td>0.540805</td>\n",
              "      <td>0.256958</td>\n",
              "      <td>0.238684</td>\n",
              "      <td>-0.111895</td>\n",
              "      <td>-0.073458</td>\n",
              "      <td>0.038175</td>\n",
              "      <td>0.028544</td>\n",
              "      <td>1.000000</td>\n",
              "      <td>0.237050</td>\n",
              "    </tr>\n",
              "    <tr>\n",
              "      <th>Outcome</th>\n",
              "      <td>-0.006298</td>\n",
              "      <td>0.223796</td>\n",
              "      <td>0.460644</td>\n",
              "      <td>0.072900</td>\n",
              "      <td>0.075603</td>\n",
              "      <td>0.123646</td>\n",
              "      <td>0.280928</td>\n",
              "      <td>0.160664</td>\n",
              "      <td>0.237050</td>\n",
              "      <td>1.000000</td>\n",
              "    </tr>\n",
              "  </tbody>\n",
              "</table>\n",
              "</div>"
            ],
            "text/plain": [
              "                                Id  Pregnancies   Glucose  BloodPressure  \\\n",
              "Id                        1.000000    -0.024222  0.015010       0.009717   \n",
              "Pregnancies              -0.024222     1.000000  0.122839       0.147253   \n",
              "Glucose                   0.015010     0.122839  1.000000       0.142095   \n",
              "BloodPressure             0.009717     0.147253  0.142095       1.000000   \n",
              "SkinThickness             0.017702    -0.068673  0.061023       0.201167   \n",
              "Insulin                   0.007359    -0.075734  0.323445       0.087823   \n",
              "BMI                       0.024007     0.018761  0.225308       0.281560   \n",
              "DiabetesPedigreeFunction -0.009695    -0.027731  0.127195       0.048471   \n",
              "Age                      -0.007404     0.540805  0.256958       0.238684   \n",
              "Outcome                  -0.006298     0.223796  0.460644       0.072900   \n",
              "\n",
              "                          SkinThickness   Insulin       BMI  \\\n",
              "Id                             0.017702  0.007359  0.024007   \n",
              "Pregnancies                   -0.068673 -0.075734  0.018761   \n",
              "Glucose                        0.061023  0.323445  0.225308   \n",
              "BloodPressure                  0.201167  0.087823  0.281560   \n",
              "SkinThickness                  1.000000  0.445345  0.393494   \n",
              "Insulin                        0.445345  1.000000  0.215926   \n",
              "BMI                            0.393494  0.215926  1.000000   \n",
              "DiabetesPedigreeFunction       0.179830  0.190500  0.129766   \n",
              "Age                           -0.111895 -0.073458  0.038175   \n",
              "Outcome                        0.075603  0.123646  0.280928   \n",
              "\n",
              "                          DiabetesPedigreeFunction       Age   Outcome  \n",
              "Id                                       -0.009695 -0.007404 -0.006298  \n",
              "Pregnancies                              -0.027731  0.540805  0.223796  \n",
              "Glucose                                   0.127195  0.256958  0.460644  \n",
              "BloodPressure                             0.048471  0.238684  0.072900  \n",
              "SkinThickness                             0.179830 -0.111895  0.075603  \n",
              "Insulin                                   0.190500 -0.073458  0.123646  \n",
              "BMI                                       0.129766  0.038175  0.280928  \n",
              "DiabetesPedigreeFunction                  1.000000  0.028544  0.160664  \n",
              "Age                                       0.028544  1.000000  0.237050  \n",
              "Outcome                                   0.160664  0.237050  1.000000  "
            ]
          },
          "execution_count": 12,
          "metadata": {},
          "output_type": "execute_result"
        }
      ],
      "source": [
        "# 2f. \n",
        "\n",
        "data.corr()"
      ]
    },
    {
      "cell_type": "code",
      "execution_count": 13,
      "metadata": {},
      "outputs": [
        {
          "data": {
            "text/plain": [
              "<AxesSubplot: >"
            ]
          },
          "execution_count": 13,
          "metadata": {},
          "output_type": "execute_result"
        },
        {
          "data": {
            "image/png": "[encoded data removed]",
            "text/plain": [
              "<Figure size 640x480 with 2 Axes>"
            ]
          },
          "metadata": {},
          "output_type": "display_data"
        }
      ],
      "source": [
        "sns.heatmap(data.corr(), annot=True, fmt=\".2f\", linewidth=.5)"
      ]
    },
    {
      "cell_type": "code",
      "execution_count": 14,
      "metadata": {},
      "outputs": [],
      "source": [
        "# With the above code we can see the heatmap of the correlations between all the data columns. First I observe that the column Id has no correlation with the rest of the data \n",
        "# as it was expected because the Id is just the  identification number of each sample and is not a health measurement, so it will be deleted later on.\n",
        "# We can also observe that the columns Age and Pregnancies have a really high correlation, which can be interpreted biologically as when women age they might have a \n",
        "# higher likelyhood of experiencing pregnancies thus creating a higher correlation between the variables.\n",
        "# The most importance result though is the relatively high correlation between the columns Glucose and Outcome, implies a strong statistical relationship between them.\n",
        "# That means that the feature Glucose can contribute significantly for distinguishing between different Outcome classes and should be utilized in the classification."
      ]
    },
    {
      "cell_type": "code",
      "execution_count": 15,
      "metadata": {},
      "outputs": [
        {
          "data": {
            "image/png": "[encoded data removed]",
            "text/plain": [
              "<Figure size 1200x1000 with 12 Axes>"
            ]
          },
          "metadata": {},
          "output_type": "display_data"
        }
      ],
      "source": [
        "# 2g.\n",
        "\n",
        "data.hist(bins=100, figsize=(12,10))\n",
        "plt.show()"
      ]
    },
    {
      "cell_type": "code",
      "execution_count": 16,
      "metadata": {},
      "outputs": [
        {
          "data": {
            "text/html": [
              "<div>\n",
              "<style scoped>\n",
              "    .dataframe tbody tr th:only-of-type {\n",
              "        vertical-align: middle;\n",
              "    }\n",
              "\n",
              "    .dataframe tbody tr th {\n",
              "        vertical-align: top;\n",
              "    }\n",
              "\n",
              "    .dataframe thead th {\n",
              "        text-align: right;\n",
              "    }\n",
              "</style>\n",
              "<table border=\"1\" class=\"dataframe\">\n",
              "  <thead>\n",
              "    <tr style=\"text-align: right;\">\n",
              "      <th></th>\n",
              "      <th>Id</th>\n",
              "      <th>Pregnancies</th>\n",
              "      <th>Glucose</th>\n",
              "      <th>BloodPressure</th>\n",
              "      <th>SkinThickness</th>\n",
              "      <th>Insulin</th>\n",
              "      <th>BMI</th>\n",
              "      <th>DiabetesPedigreeFunction</th>\n",
              "      <th>Age</th>\n",
              "      <th>Outcome</th>\n",
              "    </tr>\n",
              "  </thead>\n",
              "  <tbody>\n",
              "    <tr>\n",
              "      <th>count</th>\n",
              "      <td>2768.000000</td>\n",
              "      <td>2768.000000</td>\n",
              "      <td>2768.000000</td>\n",
              "      <td>2768.000000</td>\n",
              "      <td>2768.000000</td>\n",
              "      <td>2768.000000</td>\n",
              "      <td>2768.000000</td>\n",
              "      <td>2768.000000</td>\n",
              "      <td>2768.000000</td>\n",
              "      <td>2768.000000</td>\n",
              "    </tr>\n",
              "    <tr>\n",
              "      <th>mean</th>\n",
              "      <td>1384.500000</td>\n",
              "      <td>3.742775</td>\n",
              "      <td>121.102601</td>\n",
              "      <td>69.134393</td>\n",
              "      <td>20.824422</td>\n",
              "      <td>80.127890</td>\n",
              "      <td>32.137392</td>\n",
              "      <td>0.471193</td>\n",
              "      <td>33.132225</td>\n",
              "      <td>0.343931</td>\n",
              "    </tr>\n",
              "    <tr>\n",
              "      <th>std</th>\n",
              "      <td>799.197097</td>\n",
              "      <td>3.323801</td>\n",
              "      <td>32.036508</td>\n",
              "      <td>19.231438</td>\n",
              "      <td>16.059596</td>\n",
              "      <td>112.301933</td>\n",
              "      <td>8.076127</td>\n",
              "      <td>0.325669</td>\n",
              "      <td>11.777230</td>\n",
              "      <td>0.475104</td>\n",
              "    </tr>\n",
              "    <tr>\n",
              "      <th>min</th>\n",
              "      <td>1.000000</td>\n",
              "      <td>0.000000</td>\n",
              "      <td>0.000000</td>\n",
              "      <td>0.000000</td>\n",
              "      <td>0.000000</td>\n",
              "      <td>0.000000</td>\n",
              "      <td>0.000000</td>\n",
              "      <td>0.078000</td>\n",
              "      <td>21.000000</td>\n",
              "      <td>0.000000</td>\n",
              "    </tr>\n",
              "    <tr>\n",
              "      <th>25%</th>\n",
              "      <td>692.750000</td>\n",
              "      <td>1.000000</td>\n",
              "      <td>99.000000</td>\n",
              "      <td>62.000000</td>\n",
              "      <td>0.000000</td>\n",
              "      <td>0.000000</td>\n",
              "      <td>27.300000</td>\n",
              "      <td>0.244000</td>\n",
              "      <td>24.000000</td>\n",
              "      <td>0.000000</td>\n",
              "    </tr>\n",
              "    <tr>\n",
              "      <th>50%</th>\n",
              "      <td>1384.500000</td>\n",
              "      <td>3.000000</td>\n",
              "      <td>117.000000</td>\n",
              "      <td>72.000000</td>\n",
              "      <td>23.000000</td>\n",
              "      <td>37.000000</td>\n",
              "      <td>32.200000</td>\n",
              "      <td>0.375000</td>\n",
              "      <td>29.000000</td>\n",
              "      <td>0.000000</td>\n",
              "    </tr>\n",
              "    <tr>\n",
              "      <th>75%</th>\n",
              "      <td>2076.250000</td>\n",
              "      <td>6.000000</td>\n",
              "      <td>141.000000</td>\n",
              "      <td>80.000000</td>\n",
              "      <td>32.000000</td>\n",
              "      <td>130.000000</td>\n",
              "      <td>36.625000</td>\n",
              "      <td>0.624000</td>\n",
              "      <td>40.000000</td>\n",
              "      <td>1.000000</td>\n",
              "    </tr>\n",
              "    <tr>\n",
              "      <th>max</th>\n",
              "      <td>2768.000000</td>\n",
              "      <td>17.000000</td>\n",
              "      <td>199.000000</td>\n",
              "      <td>122.000000</td>\n",
              "      <td>110.000000</td>\n",
              "      <td>846.000000</td>\n",
              "      <td>80.600000</td>\n",
              "      <td>2.420000</td>\n",
              "      <td>81.000000</td>\n",
              "      <td>1.000000</td>\n",
              "    </tr>\n",
              "  </tbody>\n",
              "</table>\n",
              "</div>"
            ],
            "text/plain": [
              "                Id  Pregnancies      Glucose  BloodPressure  SkinThickness  \\\n",
              "count  2768.000000  2768.000000  2768.000000    2768.000000    2768.000000   \n",
              "mean   1384.500000     3.742775   121.102601      69.134393      20.824422   \n",
              "std     799.197097     3.323801    32.036508      19.231438      16.059596   \n",
              "min       1.000000     0.000000     0.000000       0.000000       0.000000   \n",
              "25%     692.750000     1.000000    99.000000      62.000000       0.000000   \n",
              "50%    1384.500000     3.000000   117.000000      72.000000      23.000000   \n",
              "75%    2076.250000     6.000000   141.000000      80.000000      32.000000   \n",
              "max    2768.000000    17.000000   199.000000     122.000000     110.000000   \n",
              "\n",
              "           Insulin          BMI  DiabetesPedigreeFunction          Age  \\\n",
              "count  2768.000000  2768.000000               2768.000000  2768.000000   \n",
              "mean     80.127890    32.137392                  0.471193    33.132225   \n",
              "std     112.301933     8.076127                  0.325669    11.777230   \n",
              "min       0.000000     0.000000                  0.078000    21.000000   \n",
              "25%       0.000000    27.300000                  0.244000    24.000000   \n",
              "50%      37.000000    32.200000                  0.375000    29.000000   \n",
              "75%     130.000000    36.625000                  0.624000    40.000000   \n",
              "max     846.000000    80.600000                  2.420000    81.000000   \n",
              "\n",
              "           Outcome  \n",
              "count  2768.000000  \n",
              "mean      0.343931  \n",
              "std       0.475104  \n",
              "min       0.000000  \n",
              "25%       0.000000  \n",
              "50%       0.000000  \n",
              "75%       1.000000  \n",
              "max       1.000000  "
            ]
          },
          "execution_count": 16,
          "metadata": {},
          "output_type": "execute_result"
        }
      ],
      "source": [
        "data.describe()"
      ]
    },
    {
      "cell_type": "code",
      "execution_count": 17,
      "metadata": {},
      "outputs": [],
      "source": [
        "# For understanding the dataset better the above code show the histogram of each column and some statistical information like mean and std of each variable.\n",
        "# From the histograms we can see that most feature variables that are biological markers (Glucose, Insulin, etc.) have zero values that is biologically impossible \n",
        "# so that indicates that there are missing values hidden as 0 values that need to be handled later on.\n",
        "# Also we can see from both the histograms and the max row of the function describe() outlier values that can affect negatively the classification models later on \n",
        "# They might bias the models or decrease their performance and in general have a bad classification and need to be handled with scaling. "
      ]
    },
    {
      "cell_type": "markdown",
      "metadata": {
        "id": "EbK3in0hNMeI"
      },
      "source": [
        "### 3. Data Preprocessing\n",
        "💡`Use the Column Transformer in order to create and apply different transformations for the numerical and categorical data.`\n",
        "\n",
        "\n"
      ]
    },
    {
      "cell_type": "code",
      "execution_count": 18,
      "metadata": {},
      "outputs": [],
      "source": [
        "train, test = train_test_split(data, test_size=0.3, random_state=53)"
      ]
    },
    {
      "cell_type": "markdown",
      "metadata": {
        "id": "mKsQVCnLQZ30"
      },
      "source": [
        "3.a. Will you use all the features of the dataset to train the classifiers, or will you select some of them? Will you be combining some features to create new features for your model?"
      ]
    },
    {
      "cell_type": "code",
      "execution_count": 19,
      "metadata": {
        "id": "Eqb25dcKNMvg"
      },
      "outputs": [],
      "source": [
        "data=data.drop([\"Id\"], axis=1)"
      ]
    },
    {
      "cell_type": "code",
      "execution_count": 20,
      "metadata": {},
      "outputs": [],
      "source": [
        "# As explained in the correlation heatmap the feature column Id should be deleted from the dataset as it is just an identification for the subjects and has no meaning in the diabetes experiment.\n",
        "# Also the columns that had high correlation like Pregnancies-Age could be combined but because they are different biological markers i will choose not to cause\n",
        "# they will lose their individual effects on the classification models and the models will be less interpretable.    \n",
        "# So the features that will be selected are the columns \"Pregnancies\",\"Glucose\",\"BloodPressure\",\"SkinThickness\",\"Insulin\",\"BMI\",\"DiabetesPedigreeFunction\",\"Age\" ."
      ]
    },
    {
      "cell_type": "markdown",
      "metadata": {
        "id": "GPCa3SklNmBe"
      },
      "source": [
        "3.b. Are there any missing values? Write the appropriate code to handle these values."
      ]
    },
    {
      "cell_type": "code",
      "execution_count": 21,
      "metadata": {
        "id": "1e_E53VJN8a2"
      },
      "outputs": [
        {
          "name": "stdout",
          "output_type": "stream",
          "text": [
            "Number of duplicate rows: 1990\n",
            "Number of null values in each column:\n",
            "Pregnancies                 0\n",
            "Glucose                     0\n",
            "BloodPressure               0\n",
            "SkinThickness               0\n",
            "Insulin                     0\n",
            "BMI                         0\n",
            "DiabetesPedigreeFunction    0\n",
            "Age                         0\n",
            "Outcome                     0\n",
            "dtype: int64\n",
            "Number of zero values in each column:\n",
            "Pregnancies                  412\n",
            "Glucose                       18\n",
            "BloodPressure                125\n",
            "SkinThickness                800\n",
            "Insulin                     1330\n",
            "BMI                           39\n",
            "DiabetesPedigreeFunction       0\n",
            "Age                            0\n",
            "Outcome                     1816\n",
            "dtype: int64\n"
          ]
        }
      ],
      "source": [
        "\n",
        "\n",
        "# number of duplicate rows\n",
        "duplicate_rows = data[data.duplicated()]\n",
        "num_duplicates = len(duplicate_rows)\n",
        "\n",
        "print(\"Number of duplicate rows:\", num_duplicates)\n",
        "\n",
        "#cleaned_data = data.drop_duplicates()\n",
        "\n",
        "# null counts for each column\n",
        "print(\"Number of null values in each column:\")\n",
        "print(data.isnull().sum())\n",
        "\n",
        "# zero counts for each feature column\n",
        "zero_counts = (data == 0).sum(axis=0)\n",
        "\n",
        "print(\"Number of zero values in each column:\")\n",
        "print(zero_counts)\n",
        "\n",
        "\n",
        "# impute 0 values with mean\n",
        "columns_to_impute = [\"Glucose\", \"BloodPressure\", \"SkinThickness\", \"Insulin\", \"BMI\", \"DiabetesPedigreeFunction\", \"Age\"]\n",
        "\n",
        "\n",
        "imputer = Pipeline(steps=[\n",
        "    ('imputer', SimpleImputer(strategy='mean', fill_value=np.nan) )\n",
        "])\n",
        "\n",
        "data.loc[:, columns_to_impute] = data[columns_to_impute].replace(0, np.nan)\n",
        "\n",
        "imputed = imputer.fit_transform(data[columns_to_impute])\n",
        "data[columns_to_impute] = imputed\n",
        "\n"
      ]
    },
    {
      "cell_type": "code",
      "execution_count": 22,
      "metadata": {},
      "outputs": [],
      "source": [
        "#First it is tested if the dataset has any duplicated rows. It has 1990 duplicated rows out of 2768 rows. \n",
        "# Because the duplicates are significantly large and if I delete them \n",
        "# there will not be sufficient data to for the classifier to generalize well to unseen data thus giving bad accuracies. So i choose to not delete them.\n",
        "\n",
        "#Then on the above code it is tested if the dataset has any null values (missing values), which has none.\n",
        "#Lastly the number of 0 values(missing values in our case) are counted on the features cause it is impossible for a person to have 0 on a biomarker such as Insulin. \n",
        "# The only feature that it is allowed to have 0 values is the number of Pregnancies feature.\n",
        "# All the 0 values except from the ones on the column Pregnancies are converted to null and then an imputer is employed to change all null values with the mean value in each column.\n",
        "# The mean is imputed on all the columns cause it is the best imputed value when we are dealing with numerical values. "
      ]
    },
    {
      "cell_type": "code",
      "execution_count": 57,
      "metadata": {},
      "outputs": [
        {
          "name": "stdout",
          "output_type": "stream",
          "text": [
            "Number of zero values in each column:\n",
            "Pregnancies                  412\n",
            "Glucose                        0\n",
            "BloodPressure                  0\n",
            "SkinThickness                  0\n",
            "Insulin                        0\n",
            "BMI                            0\n",
            "DiabetesPedigreeFunction       0\n",
            "Age                            0\n",
            "Outcome                     1816\n",
            "dtype: int64\n"
          ]
        }
      ],
      "source": [
        "zero_count = (data == 0).sum(axis=0)\n",
        "\n",
        "print(\"Number of zero values in each column:\")\n",
        "print(zero_count)"
      ]
    },
    {
      "cell_type": "code",
      "execution_count": 24,
      "metadata": {},
      "outputs": [],
      "source": [
        "# This cell tests if the columns still have 0 values and if the feature Pregnancies and the labels Outcome still have the same amount of 0 values."
      ]
    },
    {
      "cell_type": "markdown",
      "metadata": {
        "id": "ZRq1eHYfNoEO"
      },
      "source": [
        "3.c. Write the appropriate code to convert the categorical variables so that the classifiers you use can handle them."
      ]
    },
    {
      "cell_type": "code",
      "execution_count": 25,
      "metadata": {
        "id": "NxRunryNQiXa"
      },
      "outputs": [
        {
          "data": {
            "text/html": [
              "<div>\n",
              "<style scoped>\n",
              "    .dataframe tbody tr th:only-of-type {\n",
              "        vertical-align: middle;\n",
              "    }\n",
              "\n",
              "    .dataframe tbody tr th {\n",
              "        vertical-align: top;\n",
              "    }\n",
              "\n",
              "    .dataframe thead th {\n",
              "        text-align: right;\n",
              "    }\n",
              "</style>\n",
              "<table border=\"1\" class=\"dataframe\">\n",
              "  <thead>\n",
              "    <tr style=\"text-align: right;\">\n",
              "      <th></th>\n",
              "      <th>Pregnancies</th>\n",
              "      <th>Glucose</th>\n",
              "      <th>BloodPressure</th>\n",
              "      <th>SkinThickness</th>\n",
              "      <th>Insulin</th>\n",
              "      <th>BMI</th>\n",
              "      <th>DiabetesPedigreeFunction</th>\n",
              "      <th>Age</th>\n",
              "      <th>Outcome</th>\n",
              "    </tr>\n",
              "  </thead>\n",
              "  <tbody>\n",
              "    <tr>\n",
              "      <th>0</th>\n",
              "      <td>6</td>\n",
              "      <td>148.0</td>\n",
              "      <td>72.0</td>\n",
              "      <td>35.000000</td>\n",
              "      <td>154.23783</td>\n",
              "      <td>33.6</td>\n",
              "      <td>0.627</td>\n",
              "      <td>50.0</td>\n",
              "      <td>1</td>\n",
              "    </tr>\n",
              "    <tr>\n",
              "      <th>1</th>\n",
              "      <td>1</td>\n",
              "      <td>85.0</td>\n",
              "      <td>66.0</td>\n",
              "      <td>29.000000</td>\n",
              "      <td>154.23783</td>\n",
              "      <td>26.6</td>\n",
              "      <td>0.351</td>\n",
              "      <td>31.0</td>\n",
              "      <td>0</td>\n",
              "    </tr>\n",
              "    <tr>\n",
              "      <th>2</th>\n",
              "      <td>8</td>\n",
              "      <td>183.0</td>\n",
              "      <td>64.0</td>\n",
              "      <td>29.289634</td>\n",
              "      <td>154.23783</td>\n",
              "      <td>23.3</td>\n",
              "      <td>0.672</td>\n",
              "      <td>32.0</td>\n",
              "      <td>1</td>\n",
              "    </tr>\n",
              "    <tr>\n",
              "      <th>3</th>\n",
              "      <td>1</td>\n",
              "      <td>89.0</td>\n",
              "      <td>66.0</td>\n",
              "      <td>23.000000</td>\n",
              "      <td>94.00000</td>\n",
              "      <td>28.1</td>\n",
              "      <td>0.167</td>\n",
              "      <td>21.0</td>\n",
              "      <td>0</td>\n",
              "    </tr>\n",
              "    <tr>\n",
              "      <th>4</th>\n",
              "      <td>0</td>\n",
              "      <td>137.0</td>\n",
              "      <td>40.0</td>\n",
              "      <td>35.000000</td>\n",
              "      <td>168.00000</td>\n",
              "      <td>43.1</td>\n",
              "      <td>2.288</td>\n",
              "      <td>33.0</td>\n",
              "      <td>1</td>\n",
              "    </tr>\n",
              "  </tbody>\n",
              "</table>\n",
              "</div>"
            ],
            "text/plain": [
              "   Pregnancies  Glucose  BloodPressure  SkinThickness    Insulin   BMI  \\\n",
              "0            6    148.0           72.0      35.000000  154.23783  33.6   \n",
              "1            1     85.0           66.0      29.000000  154.23783  26.6   \n",
              "2            8    183.0           64.0      29.289634  154.23783  23.3   \n",
              "3            1     89.0           66.0      23.000000   94.00000  28.1   \n",
              "4            0    137.0           40.0      35.000000  168.00000  43.1   \n",
              "\n",
              "   DiabetesPedigreeFunction   Age  Outcome  \n",
              "0                     0.627  50.0        1  \n",
              "1                     0.351  31.0        0  \n",
              "2                     0.672  32.0        1  \n",
              "3                     0.167  21.0        0  \n",
              "4                     2.288  33.0        1  "
            ]
          },
          "execution_count": 25,
          "metadata": {},
          "output_type": "execute_result"
        }
      ],
      "source": [
        "data.head()"
      ]
    },
    {
      "cell_type": "code",
      "execution_count": 26,
      "metadata": {},
      "outputs": [],
      "source": [
        "# We can see that all the features have numerical values so there is no categorical values to convert.\n",
        "# The labels Outcome are categorical but they are already encoded in binary encoding so there is no need to handle them."
      ]
    },
    {
      "cell_type": "markdown",
      "metadata": {
        "id": "KWsb4KQmQiFc"
      },
      "source": [
        "3.d. Write code for feature scaling if you find it necessary"
      ]
    },
    {
      "cell_type": "code",
      "execution_count": 27,
      "metadata": {
        "id": "EXkL_EFfNom-"
      },
      "outputs": [],
      "source": [
        "features = data.drop([\"Outcome\"], axis=1)\n",
        "\n",
        "scaler = Pipeline(steps=[\n",
        "    ('scaler', StandardScaler())\n",
        "])\n",
        "\n",
        "scaled = scaler.fit_transform(features)"
      ]
    },
    {
      "cell_type": "code",
      "execution_count": 28,
      "metadata": {},
      "outputs": [],
      "source": [
        "# The features of the dataset are scaled with the standard scaler so that they have mean 0 and standard deviation of 1\n",
        "# This scaling centers the data and eliminates any bias. Also with the standard deviation of 1 \n",
        "# the sample points are spread not too close and not too far so all the features have the same relative importance, thus improving the classification performance."
      ]
    },
    {
      "cell_type": "markdown",
      "metadata": {
        "id": "_S2tynpfhaOu"
      },
      "source": [
        "3.e. Perform all the previous pretraining steps (using transformations) so that the initial set is \"clean\" to be used for training the classifiers."
      ]
    },
    {
      "cell_type": "code",
      "execution_count": 29,
      "metadata": {
        "id": "_LdteolxhZfi"
      },
      "outputs": [],
      "source": [
        "train = train.drop([\"Id\"], axis=1) \n",
        "\n",
        "# preprocessing steps imputation and scaling\n",
        "columns_to_impute = [\"Glucose\", \"BloodPressure\", \"SkinThickness\", \"Insulin\", \"BMI\", \"DiabetesPedigreeFunction\", \"Age\"]\n",
        "\n",
        "numerical_columns = [\"Pregnancies\", \"Glucose\", \"BloodPressure\", \"SkinThickness\", \"Insulin\", \"BMI\", \"DiabetesPedigreeFunction\", \"Age\"]\n",
        "\n",
        "numerical_transformer = Pipeline(steps=[\n",
        "    ('imputer', SimpleImputer(strategy='mean', fill_value=np.nan) ),\n",
        "    ('scaler', StandardScaler())\n",
        "])\n",
        "\n",
        "preprocessor = ColumnTransformer(\n",
        "    transformers=[\n",
        "        ('numerical', numerical_transformer, numerical_columns)])\n",
        "\n",
        "# replace 0 with null on selected columns\n",
        "train.loc[:, columns_to_impute] = train[columns_to_impute].replace(0, np.nan)\n",
        "# preprocessing\n",
        "train_pre = preprocessor.fit_transform(train)"
      ]
    },
    {
      "cell_type": "code",
      "execution_count": 30,
      "metadata": {},
      "outputs": [],
      "source": [
        "# In this section all the preprocessing steps are performed on the train set with the column transformer 'preprocessor'.\n",
        "# Only a numerical transformer is used because we have only numerical features. The features are imputed and scaled.\n",
        "# For the imputation on all the columns except from Pregnancies the zero values are transformed into null values so that the imputer \n",
        "# will replace them with the corresponding mean value."
      ]
    },
    {
      "cell_type": "code",
      "execution_count": 31,
      "metadata": {},
      "outputs": [],
      "source": [
        "test = test.drop([\"Id\"], axis=1)\n",
        "\n",
        "test.loc[:, columns_to_impute] = test[columns_to_impute].replace(0, np.nan)\n",
        "\n",
        "test_pre = preprocessor.transform(test)"
      ]
    },
    {
      "cell_type": "code",
      "execution_count": 32,
      "metadata": {},
      "outputs": [],
      "source": [
        "# In this cell the test set is transformed using the preprocessor of the train set with the parameters of the train set.\n",
        "# This is performed so that the test set has a compatible form for the classifiers to understand and we have no bias into the evaluation."
      ]
    },
    {
      "cell_type": "markdown",
      "metadata": {
        "id": "OeD8amKKLJFr"
      },
      "source": [
        "3.f. After \"cleaning\" the initial training set, write the appropriate code to generate the $X$ and $y$ sets from the initial training set."
      ]
    },
    {
      "cell_type": "code",
      "execution_count": 33,
      "metadata": {
        "id": "FysfIb93LJxS"
      },
      "outputs": [
        {
          "name": "stdout",
          "output_type": "stream",
          "text": [
            "(1937, 8)\n",
            "(1937,)\n",
            "(831, 8)\n",
            "(831,)\n"
          ]
        }
      ],
      "source": [
        "X=train_pre \n",
        "y=train['Outcome']\n",
        "\n",
        "X_test = test_pre\n",
        "y_test = test['Outcome']\n",
        "\n",
        "print(X.shape)\n",
        "print(y.shape)\n",
        "\n",
        "print(X_test.shape)\n",
        "print(y_test.shape)\n"
      ]
    },
    {
      "cell_type": "code",
      "execution_count": 34,
      "metadata": {},
      "outputs": [],
      "source": [
        "# In this section the X (features) and y (labels) are initialized for the train set and the X_test, y_test for the test set.\n",
        "# And their matrix sizes are printed to test if the amount of features and labels are correct."
      ]
    },
    {
      "cell_type": "markdown",
      "metadata": {
        "id": "8oU_se4UT0JF"
      },
      "source": [
        "3.g. Furtrher Divide the training set into a training set and a validation set (the split should be 70% train set and 30% validation set). Again, pass to the `random_state` parameter of the *train_test_split()* method the last three digits of your student ID number."
      ]
    },
    {
      "cell_type": "code",
      "execution_count": 35,
      "metadata": {
        "id": "wcwB_TK1ixvl"
      },
      "outputs": [],
      "source": [
        "X_train, X_val, y_train, y_val = train_test_split(X, y,test_size=0.3, random_state=53)"
      ]
    },
    {
      "cell_type": "code",
      "execution_count": null,
      "metadata": {},
      "outputs": [],
      "source": [
        "# We further split the train set into train set (X_train, y_train) and validation set (X_val, y_val)"
      ]
    },
    {
      "cell_type": "markdown",
      "metadata": {
        "id": "xhITyhMuSslH"
      },
      "source": [
        "### 4. Train models with default hyper-parameters\n",
        "\n",
        "We will train the following classifiers with our training data set:\n",
        "1. Naive Bayes\n",
        "2. KNeighborsClassifier\n",
        "3. MLP with only **one** hidden layer\n",
        "4. Decision Tree\n",
        "5. Random Forest\n"
      ]
    },
    {
      "cell_type": "code",
      "execution_count": 36,
      "metadata": {
        "id": "-r3kEVgkU0OF"
      },
      "outputs": [],
      "source": [
        "from sklearn.naive_bayes import GaussianNB\n",
        "from sklearn.neighbors import KNeighborsClassifier\n",
        "from sklearn.linear_model import LogisticRegression\n",
        "from sklearn.neural_network import MLPClassifier\n",
        "from sklearn.svm import SVC\n",
        "from sklearn.tree import DecisionTreeClassifier\n",
        "from sklearn.ensemble import RandomForestClassifier\n",
        "\n",
        "from sklearn.metrics import f1_score,accuracy_score\n",
        "\n",
        "gnb = GaussianNB()\n",
        "neigh = KNeighborsClassifier()\n",
        "mlp = MLPClassifier()\n",
        "dt = DecisionTreeClassifier()\n",
        "rfc = RandomForestClassifier()"
      ]
    },
    {
      "cell_type": "code",
      "execution_count": 37,
      "metadata": {},
      "outputs": [],
      "source": [
        "# In this cell the classifiers Naive Bayes, KNeighbors, MLP, Decision Tree, Random Forest are initialized with their default parameters in this order.\n",
        "# The classifier MLP sets as default one hidden layer."
      ]
    },
    {
      "cell_type": "markdown",
      "metadata": {
        "id": "a49EG4Z9U0yD"
      },
      "source": [
        " 4.a. Train (fit) all the 5 classifiers mentioned above on the training set, using the default values for all their hyper-parameters."
      ]
    },
    {
      "cell_type": "code",
      "execution_count": 38,
      "metadata": {
        "id": "-_kDpm_sWRjs"
      },
      "outputs": [
        {
          "name": "stderr",
          "output_type": "stream",
          "text": [
            "c:\\Users\\giannos\\Anaconda3\\envs\\tf-gpu\\lib\\site-packages\\sklearn\\neural_network\\_multilayer_perceptron.py:692: ConvergenceWarning: Stochastic Optimizer: Maximum iterations (200) reached and the optimization hasn't converged yet.\n",
            "  warnings.warn(\n"
          ]
        },
        {
          "data": {
            "text/plain": [
              "RandomForestClassifier()"
            ]
          },
          "execution_count": 38,
          "metadata": {},
          "output_type": "execute_result"
        }
      ],
      "source": [
        "gnb.fit(X_train, y_train)\n",
        "neigh.fit(X_train, y_train)\n",
        "mlp.fit(X_train, y_train)\n",
        "dt.fit(X_train, y_train)\n",
        "rfc.fit(X_train, y_train)"
      ]
    },
    {
      "cell_type": "code",
      "execution_count": 39,
      "metadata": {},
      "outputs": [],
      "source": [
        "# In this cell all 5 classifiers are trained with the method fit() on the train set."
      ]
    },
    {
      "cell_type": "markdown",
      "metadata": {
        "id": "dkv21zidSgNX"
      },
      "source": [
        "4.b. Predict the label of the samples of the test set on all trained models."
      ]
    },
    {
      "cell_type": "code",
      "execution_count": 40,
      "metadata": {
        "id": "3DqkKHMZQaDe"
      },
      "outputs": [
        {
          "name": "stdout",
          "output_type": "stream",
          "text": [
            "Naive Bayes accuracy: 0.7689530685920578\n",
            "KNeighbors accuracy: 0.7978339350180506\n",
            "MLP accuracy: 0.8170878459687124\n",
            "Decision Tree accuracy: 0.9578820697954272\n",
            "Random Forest accuracy: 0.9602888086642599\n"
          ]
        },
        {
          "name": "stderr",
          "output_type": "stream",
          "text": [
            "c:\\Users\\giannos\\Anaconda3\\envs\\tf-gpu\\lib\\site-packages\\sklearn\\neighbors\\_classification.py:228: FutureWarning: Unlike other reduction functions (e.g. `skew`, `kurtosis`), the default behavior of `mode` typically preserves the axis it acts along. In SciPy 1.11.0, this behavior will change: the default value of `keepdims` will become False, the `axis` over which the statistic is taken will be eliminated, and the value None will no longer be accepted. Set `keepdims` to True or False to avoid this warning.\n",
            "  mode, _ = stats.mode(_y[neigh_ind, k], axis=1)\n",
            "c:\\Users\\giannos\\Anaconda3\\envs\\tf-gpu\\lib\\site-packages\\sklearn\\neighbors\\_classification.py:228: FutureWarning: Unlike other reduction functions (e.g. `skew`, `kurtosis`), the default behavior of `mode` typically preserves the axis it acts along. In SciPy 1.11.0, this behavior will change: the default value of `keepdims` will become False, the `axis` over which the statistic is taken will be eliminated, and the value None will no longer be accepted. Set `keepdims` to True or False to avoid this warning.\n",
            "  mode, _ = stats.mode(_y[neigh_ind, k], axis=1)\n"
          ]
        }
      ],
      "source": [
        "y_pred_gnb = gnb.predict(X_test)\n",
        "y_pred_neigh = neigh.predict(X_test)\n",
        "y_pred_mlp = mlp.predict(X_test)\n",
        "y_pred_dt = dt.predict(X_test)\n",
        "y_pred_rfc = rfc.predict(X_test)\n",
        "\n",
        "print('Naive Bayes accuracy:', gnb.score(X_test,y_test))\n",
        "print('KNeighbors accuracy:', neigh.score(X_test,y_test))\n",
        "print('MLP accuracy:', mlp.score(X_test,y_test))\n",
        "print('Decision Tree accuracy:', dt.score(X_test,y_test))\n",
        "print('Random Forest accuracy:', rfc.score(X_test,y_test))"
      ]
    },
    {
      "cell_type": "code",
      "execution_count": 41,
      "metadata": {},
      "outputs": [],
      "source": [
        "# Here for all classifiers the labels for the test set are predicted.\n",
        "# Also all the accuracies are printed for an initial evaluation."
      ]
    },
    {
      "cell_type": "markdown",
      "metadata": {
        "id": "BsvLlbPRWaa_"
      },
      "source": [
        "\n",
        "4.c. Compare the output of each model against the corresponding test set labels and evaluate their performance using the F1 score."
      ]
    },
    {
      "cell_type": "code",
      "execution_count": 42,
      "metadata": {
        "id": "9jkFxtNbWZvY"
      },
      "outputs": [
        {
          "name": "stdout",
          "output_type": "stream",
          "text": [
            "Naive Bayes F1 score: 0.7703927439662271\n",
            "KNeighbors F1 score: 0.7956837349346755\n",
            "MLP F1 score: 0.8165607372657702\n",
            "Decision Tree F1 score: 0.957664411079135\n",
            "Random Forest F1 score: 0.9600835875888988\n"
          ]
        }
      ],
      "source": [
        "\n",
        "f1_gnb = f1_score(y_pred_gnb, y_test, average=\"weighted\")\n",
        "f1_neigh = f1_score(y_pred_neigh, y_test, average=\"weighted\")\n",
        "f1_mlp = f1_score(y_pred_mlp, y_test, average=\"weighted\")\n",
        "f1_dt = f1_score(y_pred_dt, y_test, average=\"weighted\")\n",
        "f1_rfc = f1_score(y_pred_rfc, y_test, average=\"weighted\")\n",
        "\n",
        "print('Naive Bayes F1 score:', f1_gnb)\n",
        "print('KNeighbors F1 score:', f1_neigh)\n",
        "print('MLP F1 score:', f1_mlp)\n",
        "print('Decision Tree F1 score:', f1_dt)\n",
        "print('Random Forest F1 score:', f1_rfc)"
      ]
    },
    {
      "cell_type": "code",
      "execution_count": 43,
      "metadata": {},
      "outputs": [],
      "source": [
        "# In this cell the performance is evaluated with the f1 score metric on the predicted labels and the actual labels from the test set.\n",
        "# The f1 score combines precision (the ability of the model to make accurate positive predictions) and recall (the ability of the model to find all positive instances)\n",
        "# into a single score and is useful when dealing with imbalanced datasets, where one class has significantly more samples than the other."
      ]
    },
    {
      "cell_type": "markdown",
      "metadata": {
        "id": "F1SXqT2vWZTh"
      },
      "source": [
        "4.d. Evaluate the overall performance of the models using a graph (eg histogram, bar plot) and comment on which model performed best."
      ]
    },
    {
      "cell_type": "code",
      "execution_count": 44,
      "metadata": {
        "id": "UOiOlTcJjISQ"
      },
      "outputs": [
        {
          "data": {
            "image/png": "[encoded data removed]",
            "text/plain": [
              "<Figure size 1100x800 with 1 Axes>"
            ]
          },
          "metadata": {},
          "output_type": "display_data"
        }
      ],
      "source": [
        "\n",
        "fig = plt.figure(figsize =(11, 8))\n",
        "\n",
        "acc = [f1_gnb, f1_neigh, f1_mlp, f1_dt, f1_rfc]\n",
        "acc = [item * 100 for item in acc]\n",
        "\n",
        "model = ['NaiveBayes', 'KNeighbors', 'MLP', 'DecisionTree', 'RandomForest']\n",
        "plt.bar(model, acc)\n",
        "\n",
        "plt.show()"
      ]
    },
    {
      "cell_type": "code",
      "execution_count": 45,
      "metadata": {},
      "outputs": [],
      "source": [
        "# The f1 score of all the classifiers is depicted through a bar plot.\n",
        "\n",
        "# The Decision Tree and Random Forest classifiers as more complex models showed really good performance, with F1 scores of 0.957 and 0.96 \n",
        "# and they showed that they are good at predicting diabetes and they fit this specific dataset well. \n",
        "# Also the MLP classifier with one hidden layer performed well with F1 score of 0.816, which shows it can capture complex patterns in the data. \n",
        "# But relatively low to the previous ones as it wasn't as complex as them.\n",
        "# KNeighbors a relatively low complex model was similar with MLP with F1 score of 0.795, shows satisfactory results. \n",
        "# While Naive Bayes had a lower F1 score of 0.77 as it is the simpler classifier, it still remains a good option for this dataset. "
      ]
    },
    {
      "cell_type": "markdown",
      "metadata": {
        "id": "j6OoLlxrYILN"
      },
      "source": [
        "### 5. Model optimization through hyper-parameter tuning\n",
        "\n",
        "5.a. For the 5 classifiers optimize their performance using grid search with cross-validation (k-fold 5) to find their  optimal hyper-parameter values."
      ]
    },
    {
      "cell_type": "code",
      "execution_count": 46,
      "metadata": {
        "id": "FK_zetZLlOeV"
      },
      "outputs": [
        {
          "name": "stderr",
          "output_type": "stream",
          "text": [
            "c:\\Users\\giannos\\Anaconda3\\envs\\tf-gpu\\lib\\site-packages\\sklearn\\neighbors\\_classification.py:228: FutureWarning: Unlike other reduction functions (e.g. `skew`, `kurtosis`), the default behavior of `mode` typically preserves the axis it acts along. In SciPy 1.11.0, this behavior will change: the default value of `keepdims` will become False, the `axis` over which the statistic is taken will be eliminated, and the value None will no longer be accepted. Set `keepdims` to True or False to avoid this warning.\n",
            "  mode, _ = stats.mode(_y[neigh_ind, k], axis=1)\n",
            "c:\\Users\\giannos\\Anaconda3\\envs\\tf-gpu\\lib\\site-packages\\sklearn\\neighbors\\_classification.py:228: FutureWarning: Unlike other reduction functions (e.g. `skew`, `kurtosis`), the default behavior of `mode` typically preserves the axis it acts along. In SciPy 1.11.0, this behavior will change: the default value of `keepdims` will become False, the `axis` over which the statistic is taken will be eliminated, and the value None will no longer be accepted. Set `keepdims` to True or False to avoid this warning.\n",
            "  mode, _ = stats.mode(_y[neigh_ind, k], axis=1)\n",
            "c:\\Users\\giannos\\Anaconda3\\envs\\tf-gpu\\lib\\site-packages\\sklearn\\neighbors\\_classification.py:228: FutureWarning: Unlike other reduction functions (e.g. `skew`, `kurtosis`), the default behavior of `mode` typically preserves the axis it acts along. In SciPy 1.11.0, this behavior will change: the default value of `keepdims` will become False, the `axis` over which the statistic is taken will be eliminated, and the value None will no longer be accepted. Set `keepdims` to True or False to avoid this warning.\n",
            "  mode, _ = stats.mode(_y[neigh_ind, k], axis=1)\n",
            "c:\\Users\\giannos\\Anaconda3\\envs\\tf-gpu\\lib\\site-packages\\sklearn\\neighbors\\_classification.py:228: FutureWarning: Unlike other reduction functions (e.g. `skew`, `kurtosis`), the default behavior of `mode` typically preserves the axis it acts along. In SciPy 1.11.0, this behavior will change: the default value of `keepdims` will become False, the `axis` over which the statistic is taken will be eliminated, and the value None will no longer be accepted. Set `keepdims` to True or False to avoid this warning.\n",
            "  mode, _ = stats.mode(_y[neigh_ind, k], axis=1)\n",
            "c:\\Users\\giannos\\Anaconda3\\envs\\tf-gpu\\lib\\site-packages\\sklearn\\neighbors\\_classification.py:228: FutureWarning: Unlike other reduction functions (e.g. `skew`, `kurtosis`), the default behavior of `mode` typically preserves the axis it acts along. In SciPy 1.11.0, this behavior will change: the default value of `keepdims` will become False, the `axis` over which the statistic is taken will be eliminated, and the value None will no longer be accepted. Set `keepdims` to True or False to avoid this warning.\n",
            "  mode, _ = stats.mode(_y[neigh_ind, k], axis=1)\n",
            "c:\\Users\\giannos\\Anaconda3\\envs\\tf-gpu\\lib\\site-packages\\sklearn\\neighbors\\_classification.py:228: FutureWarning: Unlike other reduction functions (e.g. `skew`, `kurtosis`), the default behavior of `mode` typically preserves the axis it acts along. In SciPy 1.11.0, this behavior will change: the default value of `keepdims` will become False, the `axis` over which the statistic is taken will be eliminated, and the value None will no longer be accepted. Set `keepdims` to True or False to avoid this warning.\n",
            "  mode, _ = stats.mode(_y[neigh_ind, k], axis=1)\n",
            "c:\\Users\\giannos\\Anaconda3\\envs\\tf-gpu\\lib\\site-packages\\sklearn\\neighbors\\_classification.py:228: FutureWarning: Unlike other reduction functions (e.g. `skew`, `kurtosis`), the default behavior of `mode` typically preserves the axis it acts along. In SciPy 1.11.0, this behavior will change: the default value of `keepdims` will become False, the `axis` over which the statistic is taken will be eliminated, and the value None will no longer be accepted. Set `keepdims` to True or False to avoid this warning.\n",
            "  mode, _ = stats.mode(_y[neigh_ind, k], axis=1)\n",
            "c:\\Users\\giannos\\Anaconda3\\envs\\tf-gpu\\lib\\site-packages\\sklearn\\neighbors\\_classification.py:228: FutureWarning: Unlike other reduction functions (e.g. `skew`, `kurtosis`), the default behavior of `mode` typically preserves the axis it acts along. In SciPy 1.11.0, this behavior will change: the default value of `keepdims` will become False, the `axis` over which the statistic is taken will be eliminated, and the value None will no longer be accepted. Set `keepdims` to True or False to avoid this warning.\n",
            "  mode, _ = stats.mode(_y[neigh_ind, k], axis=1)\n",
            "c:\\Users\\giannos\\Anaconda3\\envs\\tf-gpu\\lib\\site-packages\\sklearn\\neighbors\\_classification.py:228: FutureWarning: Unlike other reduction functions (e.g. `skew`, `kurtosis`), the default behavior of `mode` typically preserves the axis it acts along. In SciPy 1.11.0, this behavior will change: the default value of `keepdims` will become False, the `axis` over which the statistic is taken will be eliminated, and the value None will no longer be accepted. Set `keepdims` to True or False to avoid this warning.\n",
            "  mode, _ = stats.mode(_y[neigh_ind, k], axis=1)\n",
            "c:\\Users\\giannos\\Anaconda3\\envs\\tf-gpu\\lib\\site-packages\\sklearn\\neighbors\\_classification.py:228: FutureWarning: Unlike other reduction functions (e.g. `skew`, `kurtosis`), the default behavior of `mode` typically preserves the axis it acts along. In SciPy 1.11.0, this behavior will change: the default value of `keepdims` will become False, the `axis` over which the statistic is taken will be eliminated, and the value None will no longer be accepted. Set `keepdims` to True or False to avoid this warning.\n",
            "  mode, _ = stats.mode(_y[neigh_ind, k], axis=1)\n",
            "c:\\Users\\giannos\\Anaconda3\\envs\\tf-gpu\\lib\\site-packages\\sklearn\\neighbors\\_classification.py:228: FutureWarning: Unlike other reduction functions (e.g. `skew`, `kurtosis`), the default behavior of `mode` typically preserves the axis it acts along. In SciPy 1.11.0, this behavior will change: the default value of `keepdims` will become False, the `axis` over which the statistic is taken will be eliminated, and the value None will no longer be accepted. Set `keepdims` to True or False to avoid this warning.\n",
            "  mode, _ = stats.mode(_y[neigh_ind, k], axis=1)\n",
            "c:\\Users\\giannos\\Anaconda3\\envs\\tf-gpu\\lib\\site-packages\\sklearn\\neighbors\\_classification.py:228: FutureWarning: Unlike other reduction functions (e.g. `skew`, `kurtosis`), the default behavior of `mode` typically preserves the axis it acts along. In SciPy 1.11.0, this behavior will change: the default value of `keepdims` will become False, the `axis` over which the statistic is taken will be eliminated, and the value None will no longer be accepted. Set `keepdims` to True or False to avoid this warning.\n",
            "  mode, _ = stats.mode(_y[neigh_ind, k], axis=1)\n",
            "c:\\Users\\giannos\\Anaconda3\\envs\\tf-gpu\\lib\\site-packages\\sklearn\\neighbors\\_classification.py:228: FutureWarning: Unlike other reduction functions (e.g. `skew`, `kurtosis`), the default behavior of `mode` typically preserves the axis it acts along. In SciPy 1.11.0, this behavior will change: the default value of `keepdims` will become False, the `axis` over which the statistic is taken will be eliminated, and the value None will no longer be accepted. Set `keepdims` to True or False to avoid this warning.\n",
            "  mode, _ = stats.mode(_y[neigh_ind, k], axis=1)\n",
            "c:\\Users\\giannos\\Anaconda3\\envs\\tf-gpu\\lib\\site-packages\\sklearn\\neighbors\\_classification.py:228: FutureWarning: Unlike other reduction functions (e.g. `skew`, `kurtosis`), the default behavior of `mode` typically preserves the axis it acts along. In SciPy 1.11.0, this behavior will change: the default value of `keepdims` will become False, the `axis` over which the statistic is taken will be eliminated, and the value None will no longer be accepted. Set `keepdims` to True or False to avoid this warning.\n",
            "  mode, _ = stats.mode(_y[neigh_ind, k], axis=1)\n",
            "c:\\Users\\giannos\\Anaconda3\\envs\\tf-gpu\\lib\\site-packages\\sklearn\\neighbors\\_classification.py:228: FutureWarning: Unlike other reduction functions (e.g. `skew`, `kurtosis`), the default behavior of `mode` typically preserves the axis it acts along. In SciPy 1.11.0, this behavior will change: the default value of `keepdims` will become False, the `axis` over which the statistic is taken will be eliminated, and the value None will no longer be accepted. Set `keepdims` to True or False to avoid this warning.\n",
            "  mode, _ = stats.mode(_y[neigh_ind, k], axis=1)\n",
            "c:\\Users\\giannos\\Anaconda3\\envs\\tf-gpu\\lib\\site-packages\\sklearn\\neighbors\\_classification.py:228: FutureWarning: Unlike other reduction functions (e.g. `skew`, `kurtosis`), the default behavior of `mode` typically preserves the axis it acts along. In SciPy 1.11.0, this behavior will change: the default value of `keepdims` will become False, the `axis` over which the statistic is taken will be eliminated, and the value None will no longer be accepted. Set `keepdims` to True or False to avoid this warning.\n",
            "  mode, _ = stats.mode(_y[neigh_ind, k], axis=1)\n",
            "c:\\Users\\giannos\\Anaconda3\\envs\\tf-gpu\\lib\\site-packages\\sklearn\\neighbors\\_classification.py:228: FutureWarning: Unlike other reduction functions (e.g. `skew`, `kurtosis`), the default behavior of `mode` typically preserves the axis it acts along. In SciPy 1.11.0, this behavior will change: the default value of `keepdims` will become False, the `axis` over which the statistic is taken will be eliminated, and the value None will no longer be accepted. Set `keepdims` to True or False to avoid this warning.\n",
            "  mode, _ = stats.mode(_y[neigh_ind, k], axis=1)\n",
            "c:\\Users\\giannos\\Anaconda3\\envs\\tf-gpu\\lib\\site-packages\\sklearn\\neighbors\\_classification.py:228: FutureWarning: Unlike other reduction functions (e.g. `skew`, `kurtosis`), the default behavior of `mode` typically preserves the axis it acts along. In SciPy 1.11.0, this behavior will change: the default value of `keepdims` will become False, the `axis` over which the statistic is taken will be eliminated, and the value None will no longer be accepted. Set `keepdims` to True or False to avoid this warning.\n",
            "  mode, _ = stats.mode(_y[neigh_ind, k], axis=1)\n",
            "c:\\Users\\giannos\\Anaconda3\\envs\\tf-gpu\\lib\\site-packages\\sklearn\\neighbors\\_classification.py:228: FutureWarning: Unlike other reduction functions (e.g. `skew`, `kurtosis`), the default behavior of `mode` typically preserves the axis it acts along. In SciPy 1.11.0, this behavior will change: the default value of `keepdims` will become False, the `axis` over which the statistic is taken will be eliminated, and the value None will no longer be accepted. Set `keepdims` to True or False to avoid this warning.\n",
            "  mode, _ = stats.mode(_y[neigh_ind, k], axis=1)\n",
            "c:\\Users\\giannos\\Anaconda3\\envs\\tf-gpu\\lib\\site-packages\\sklearn\\neighbors\\_classification.py:228: FutureWarning: Unlike other reduction functions (e.g. `skew`, `kurtosis`), the default behavior of `mode` typically preserves the axis it acts along. In SciPy 1.11.0, this behavior will change: the default value of `keepdims` will become False, the `axis` over which the statistic is taken will be eliminated, and the value None will no longer be accepted. Set `keepdims` to True or False to avoid this warning.\n",
            "  mode, _ = stats.mode(_y[neigh_ind, k], axis=1)\n",
            "c:\\Users\\giannos\\Anaconda3\\envs\\tf-gpu\\lib\\site-packages\\sklearn\\neighbors\\_classification.py:228: FutureWarning: Unlike other reduction functions (e.g. `skew`, `kurtosis`), the default behavior of `mode` typically preserves the axis it acts along. In SciPy 1.11.0, this behavior will change: the default value of `keepdims` will become False, the `axis` over which the statistic is taken will be eliminated, and the value None will no longer be accepted. Set `keepdims` to True or False to avoid this warning.\n",
            "  mode, _ = stats.mode(_y[neigh_ind, k], axis=1)\n",
            "c:\\Users\\giannos\\Anaconda3\\envs\\tf-gpu\\lib\\site-packages\\sklearn\\neighbors\\_classification.py:228: FutureWarning: Unlike other reduction functions (e.g. `skew`, `kurtosis`), the default behavior of `mode` typically preserves the axis it acts along. In SciPy 1.11.0, this behavior will change: the default value of `keepdims` will become False, the `axis` over which the statistic is taken will be eliminated, and the value None will no longer be accepted. Set `keepdims` to True or False to avoid this warning.\n",
            "  mode, _ = stats.mode(_y[neigh_ind, k], axis=1)\n",
            "c:\\Users\\giannos\\Anaconda3\\envs\\tf-gpu\\lib\\site-packages\\sklearn\\neighbors\\_classification.py:228: FutureWarning: Unlike other reduction functions (e.g. `skew`, `kurtosis`), the default behavior of `mode` typically preserves the axis it acts along. In SciPy 1.11.0, this behavior will change: the default value of `keepdims` will become False, the `axis` over which the statistic is taken will be eliminated, and the value None will no longer be accepted. Set `keepdims` to True or False to avoid this warning.\n",
            "  mode, _ = stats.mode(_y[neigh_ind, k], axis=1)\n",
            "c:\\Users\\giannos\\Anaconda3\\envs\\tf-gpu\\lib\\site-packages\\sklearn\\neighbors\\_classification.py:228: FutureWarning: Unlike other reduction functions (e.g. `skew`, `kurtosis`), the default behavior of `mode` typically preserves the axis it acts along. In SciPy 1.11.0, this behavior will change: the default value of `keepdims` will become False, the `axis` over which the statistic is taken will be eliminated, and the value None will no longer be accepted. Set `keepdims` to True or False to avoid this warning.\n",
            "  mode, _ = stats.mode(_y[neigh_ind, k], axis=1)\n",
            "c:\\Users\\giannos\\Anaconda3\\envs\\tf-gpu\\lib\\site-packages\\sklearn\\neighbors\\_classification.py:228: FutureWarning: Unlike other reduction functions (e.g. `skew`, `kurtosis`), the default behavior of `mode` typically preserves the axis it acts along. In SciPy 1.11.0, this behavior will change: the default value of `keepdims` will become False, the `axis` over which the statistic is taken will be eliminated, and the value None will no longer be accepted. Set `keepdims` to True or False to avoid this warning.\n",
            "  mode, _ = stats.mode(_y[neigh_ind, k], axis=1)\n",
            "c:\\Users\\giannos\\Anaconda3\\envs\\tf-gpu\\lib\\site-packages\\sklearn\\neural_network\\_multilayer_perceptron.py:692: ConvergenceWarning: Stochastic Optimizer: Maximum iterations (200) reached and the optimization hasn't converged yet.\n",
            "  warnings.warn(\n",
            "c:\\Users\\giannos\\Anaconda3\\envs\\tf-gpu\\lib\\site-packages\\sklearn\\neural_network\\_multilayer_perceptron.py:692: ConvergenceWarning: Stochastic Optimizer: Maximum iterations (200) reached and the optimization hasn't converged yet.\n",
            "  warnings.warn(\n",
            "c:\\Users\\giannos\\Anaconda3\\envs\\tf-gpu\\lib\\site-packages\\sklearn\\neural_network\\_multilayer_perceptron.py:692: ConvergenceWarning: Stochastic Optimizer: Maximum iterations (200) reached and the optimization hasn't converged yet.\n",
            "  warnings.warn(\n",
            "c:\\Users\\giannos\\Anaconda3\\envs\\tf-gpu\\lib\\site-packages\\sklearn\\neural_network\\_multilayer_perceptron.py:692: ConvergenceWarning: Stochastic Optimizer: Maximum iterations (200) reached and the optimization hasn't converged yet.\n",
            "  warnings.warn(\n",
            "c:\\Users\\giannos\\Anaconda3\\envs\\tf-gpu\\lib\\site-packages\\sklearn\\neural_network\\_multilayer_perceptron.py:692: ConvergenceWarning: Stochastic Optimizer: Maximum iterations (200) reached and the optimization hasn't converged yet.\n",
            "  warnings.warn(\n",
            "c:\\Users\\giannos\\Anaconda3\\envs\\tf-gpu\\lib\\site-packages\\sklearn\\neural_network\\_multilayer_perceptron.py:692: ConvergenceWarning: Stochastic Optimizer: Maximum iterations (200) reached and the optimization hasn't converged yet.\n",
            "  warnings.warn(\n",
            "c:\\Users\\giannos\\Anaconda3\\envs\\tf-gpu\\lib\\site-packages\\sklearn\\neural_network\\_multilayer_perceptron.py:692: ConvergenceWarning: Stochastic Optimizer: Maximum iterations (200) reached and the optimization hasn't converged yet.\n",
            "  warnings.warn(\n",
            "c:\\Users\\giannos\\Anaconda3\\envs\\tf-gpu\\lib\\site-packages\\sklearn\\neural_network\\_multilayer_perceptron.py:692: ConvergenceWarning: Stochastic Optimizer: Maximum iterations (200) reached and the optimization hasn't converged yet.\n",
            "  warnings.warn(\n",
            "c:\\Users\\giannos\\Anaconda3\\envs\\tf-gpu\\lib\\site-packages\\sklearn\\neural_network\\_multilayer_perceptron.py:692: ConvergenceWarning: Stochastic Optimizer: Maximum iterations (200) reached and the optimization hasn't converged yet.\n",
            "  warnings.warn(\n",
            "c:\\Users\\giannos\\Anaconda3\\envs\\tf-gpu\\lib\\site-packages\\sklearn\\neural_network\\_multilayer_perceptron.py:692: ConvergenceWarning: Stochastic Optimizer: Maximum iterations (200) reached and the optimization hasn't converged yet.\n",
            "  warnings.warn(\n",
            "c:\\Users\\giannos\\Anaconda3\\envs\\tf-gpu\\lib\\site-packages\\sklearn\\neural_network\\_multilayer_perceptron.py:692: ConvergenceWarning: Stochastic Optimizer: Maximum iterations (200) reached and the optimization hasn't converged yet.\n",
            "  warnings.warn(\n",
            "c:\\Users\\giannos\\Anaconda3\\envs\\tf-gpu\\lib\\site-packages\\sklearn\\neural_network\\_multilayer_perceptron.py:692: ConvergenceWarning: Stochastic Optimizer: Maximum iterations (200) reached and the optimization hasn't converged yet.\n",
            "  warnings.warn(\n",
            "c:\\Users\\giannos\\Anaconda3\\envs\\tf-gpu\\lib\\site-packages\\sklearn\\neural_network\\_multilayer_perceptron.py:692: ConvergenceWarning: Stochastic Optimizer: Maximum iterations (200) reached and the optimization hasn't converged yet.\n",
            "  warnings.warn(\n",
            "c:\\Users\\giannos\\Anaconda3\\envs\\tf-gpu\\lib\\site-packages\\sklearn\\neural_network\\_multilayer_perceptron.py:692: ConvergenceWarning: Stochastic Optimizer: Maximum iterations (200) reached and the optimization hasn't converged yet.\n",
            "  warnings.warn(\n",
            "c:\\Users\\giannos\\Anaconda3\\envs\\tf-gpu\\lib\\site-packages\\sklearn\\neural_network\\_multilayer_perceptron.py:692: ConvergenceWarning: Stochastic Optimizer: Maximum iterations (200) reached and the optimization hasn't converged yet.\n",
            "  warnings.warn(\n",
            "c:\\Users\\giannos\\Anaconda3\\envs\\tf-gpu\\lib\\site-packages\\sklearn\\neural_network\\_multilayer_perceptron.py:692: ConvergenceWarning: Stochastic Optimizer: Maximum iterations (200) reached and the optimization hasn't converged yet.\n",
            "  warnings.warn(\n",
            "c:\\Users\\giannos\\Anaconda3\\envs\\tf-gpu\\lib\\site-packages\\sklearn\\neural_network\\_multilayer_perceptron.py:692: ConvergenceWarning: Stochastic Optimizer: Maximum iterations (200) reached and the optimization hasn't converged yet.\n",
            "  warnings.warn(\n",
            "c:\\Users\\giannos\\Anaconda3\\envs\\tf-gpu\\lib\\site-packages\\sklearn\\neural_network\\_multilayer_perceptron.py:692: ConvergenceWarning: Stochastic Optimizer: Maximum iterations (200) reached and the optimization hasn't converged yet.\n",
            "  warnings.warn(\n",
            "c:\\Users\\giannos\\Anaconda3\\envs\\tf-gpu\\lib\\site-packages\\sklearn\\neural_network\\_multilayer_perceptron.py:692: ConvergenceWarning: Stochastic Optimizer: Maximum iterations (200) reached and the optimization hasn't converged yet.\n",
            "  warnings.warn(\n",
            "c:\\Users\\giannos\\Anaconda3\\envs\\tf-gpu\\lib\\site-packages\\sklearn\\neural_network\\_multilayer_perceptron.py:692: ConvergenceWarning: Stochastic Optimizer: Maximum iterations (200) reached and the optimization hasn't converged yet.\n",
            "  warnings.warn(\n",
            "c:\\Users\\giannos\\Anaconda3\\envs\\tf-gpu\\lib\\site-packages\\sklearn\\neural_network\\_multilayer_perceptron.py:692: ConvergenceWarning: Stochastic Optimizer: Maximum iterations (200) reached and the optimization hasn't converged yet.\n",
            "  warnings.warn(\n",
            "c:\\Users\\giannos\\Anaconda3\\envs\\tf-gpu\\lib\\site-packages\\sklearn\\neural_network\\_multilayer_perceptron.py:692: ConvergenceWarning: Stochastic Optimizer: Maximum iterations (200) reached and the optimization hasn't converged yet.\n",
            "  warnings.warn(\n",
            "c:\\Users\\giannos\\Anaconda3\\envs\\tf-gpu\\lib\\site-packages\\sklearn\\neural_network\\_multilayer_perceptron.py:692: ConvergenceWarning: Stochastic Optimizer: Maximum iterations (200) reached and the optimization hasn't converged yet.\n",
            "  warnings.warn(\n",
            "c:\\Users\\giannos\\Anaconda3\\envs\\tf-gpu\\lib\\site-packages\\sklearn\\neural_network\\_multilayer_perceptron.py:692: ConvergenceWarning: Stochastic Optimizer: Maximum iterations (200) reached and the optimization hasn't converged yet.\n",
            "  warnings.warn(\n",
            "c:\\Users\\giannos\\Anaconda3\\envs\\tf-gpu\\lib\\site-packages\\sklearn\\neural_network\\_multilayer_perceptron.py:692: ConvergenceWarning: Stochastic Optimizer: Maximum iterations (200) reached and the optimization hasn't converged yet.\n",
            "  warnings.warn(\n",
            "c:\\Users\\giannos\\Anaconda3\\envs\\tf-gpu\\lib\\site-packages\\sklearn\\neural_network\\_multilayer_perceptron.py:692: ConvergenceWarning: Stochastic Optimizer: Maximum iterations (200) reached and the optimization hasn't converged yet.\n",
            "  warnings.warn(\n",
            "c:\\Users\\giannos\\Anaconda3\\envs\\tf-gpu\\lib\\site-packages\\sklearn\\neural_network\\_multilayer_perceptron.py:692: ConvergenceWarning: Stochastic Optimizer: Maximum iterations (200) reached and the optimization hasn't converged yet.\n",
            "  warnings.warn(\n",
            "c:\\Users\\giannos\\Anaconda3\\envs\\tf-gpu\\lib\\site-packages\\sklearn\\neural_network\\_multilayer_perceptron.py:692: ConvergenceWarning: Stochastic Optimizer: Maximum iterations (200) reached and the optimization hasn't converged yet.\n",
            "  warnings.warn(\n",
            "c:\\Users\\giannos\\Anaconda3\\envs\\tf-gpu\\lib\\site-packages\\sklearn\\neural_network\\_multilayer_perceptron.py:692: ConvergenceWarning: Stochastic Optimizer: Maximum iterations (200) reached and the optimization hasn't converged yet.\n",
            "  warnings.warn(\n",
            "c:\\Users\\giannos\\Anaconda3\\envs\\tf-gpu\\lib\\site-packages\\sklearn\\neural_network\\_multilayer_perceptron.py:692: ConvergenceWarning: Stochastic Optimizer: Maximum iterations (200) reached and the optimization hasn't converged yet.\n",
            "  warnings.warn(\n",
            "c:\\Users\\giannos\\Anaconda3\\envs\\tf-gpu\\lib\\site-packages\\sklearn\\neural_network\\_multilayer_perceptron.py:692: ConvergenceWarning: Stochastic Optimizer: Maximum iterations (200) reached and the optimization hasn't converged yet.\n",
            "  warnings.warn(\n",
            "c:\\Users\\giannos\\Anaconda3\\envs\\tf-gpu\\lib\\site-packages\\sklearn\\neural_network\\_multilayer_perceptron.py:692: ConvergenceWarning: Stochastic Optimizer: Maximum iterations (200) reached and the optimization hasn't converged yet.\n",
            "  warnings.warn(\n",
            "c:\\Users\\giannos\\Anaconda3\\envs\\tf-gpu\\lib\\site-packages\\sklearn\\neural_network\\_multilayer_perceptron.py:692: ConvergenceWarning: Stochastic Optimizer: Maximum iterations (200) reached and the optimization hasn't converged yet.\n",
            "  warnings.warn(\n",
            "c:\\Users\\giannos\\Anaconda3\\envs\\tf-gpu\\lib\\site-packages\\sklearn\\neural_network\\_multilayer_perceptron.py:692: ConvergenceWarning: Stochastic Optimizer: Maximum iterations (200) reached and the optimization hasn't converged yet.\n",
            "  warnings.warn(\n",
            "c:\\Users\\giannos\\Anaconda3\\envs\\tf-gpu\\lib\\site-packages\\sklearn\\neural_network\\_multilayer_perceptron.py:692: ConvergenceWarning: Stochastic Optimizer: Maximum iterations (200) reached and the optimization hasn't converged yet.\n",
            "  warnings.warn(\n",
            "c:\\Users\\giannos\\Anaconda3\\envs\\tf-gpu\\lib\\site-packages\\sklearn\\neural_network\\_multilayer_perceptron.py:692: ConvergenceWarning: Stochastic Optimizer: Maximum iterations (200) reached and the optimization hasn't converged yet.\n",
            "  warnings.warn(\n",
            "c:\\Users\\giannos\\Anaconda3\\envs\\tf-gpu\\lib\\site-packages\\sklearn\\neural_network\\_multilayer_perceptron.py:692: ConvergenceWarning: Stochastic Optimizer: Maximum iterations (200) reached and the optimization hasn't converged yet.\n",
            "  warnings.warn(\n",
            "c:\\Users\\giannos\\Anaconda3\\envs\\tf-gpu\\lib\\site-packages\\sklearn\\neural_network\\_multilayer_perceptron.py:692: ConvergenceWarning: Stochastic Optimizer: Maximum iterations (200) reached and the optimization hasn't converged yet.\n",
            "  warnings.warn(\n",
            "c:\\Users\\giannos\\Anaconda3\\envs\\tf-gpu\\lib\\site-packages\\sklearn\\neural_network\\_multilayer_perceptron.py:692: ConvergenceWarning: Stochastic Optimizer: Maximum iterations (200) reached and the optimization hasn't converged yet.\n",
            "  warnings.warn(\n",
            "c:\\Users\\giannos\\Anaconda3\\envs\\tf-gpu\\lib\\site-packages\\sklearn\\neural_network\\_multilayer_perceptron.py:692: ConvergenceWarning: Stochastic Optimizer: Maximum iterations (200) reached and the optimization hasn't converged yet.\n",
            "  warnings.warn(\n",
            "c:\\Users\\giannos\\Anaconda3\\envs\\tf-gpu\\lib\\site-packages\\sklearn\\neural_network\\_multilayer_perceptron.py:692: ConvergenceWarning: Stochastic Optimizer: Maximum iterations (200) reached and the optimization hasn't converged yet.\n",
            "  warnings.warn(\n",
            "c:\\Users\\giannos\\Anaconda3\\envs\\tf-gpu\\lib\\site-packages\\sklearn\\neural_network\\_multilayer_perceptron.py:692: ConvergenceWarning: Stochastic Optimizer: Maximum iterations (200) reached and the optimization hasn't converged yet.\n",
            "  warnings.warn(\n",
            "c:\\Users\\giannos\\Anaconda3\\envs\\tf-gpu\\lib\\site-packages\\sklearn\\neural_network\\_multilayer_perceptron.py:692: ConvergenceWarning: Stochastic Optimizer: Maximum iterations (200) reached and the optimization hasn't converged yet.\n",
            "  warnings.warn(\n",
            "c:\\Users\\giannos\\Anaconda3\\envs\\tf-gpu\\lib\\site-packages\\sklearn\\neural_network\\_multilayer_perceptron.py:692: ConvergenceWarning: Stochastic Optimizer: Maximum iterations (200) reached and the optimization hasn't converged yet.\n",
            "  warnings.warn(\n",
            "c:\\Users\\giannos\\Anaconda3\\envs\\tf-gpu\\lib\\site-packages\\sklearn\\neural_network\\_multilayer_perceptron.py:692: ConvergenceWarning: Stochastic Optimizer: Maximum iterations (200) reached and the optimization hasn't converged yet.\n",
            "  warnings.warn(\n",
            "c:\\Users\\giannos\\Anaconda3\\envs\\tf-gpu\\lib\\site-packages\\sklearn\\neural_network\\_multilayer_perceptron.py:692: ConvergenceWarning: Stochastic Optimizer: Maximum iterations (200) reached and the optimization hasn't converged yet.\n",
            "  warnings.warn(\n",
            "c:\\Users\\giannos\\Anaconda3\\envs\\tf-gpu\\lib\\site-packages\\sklearn\\neural_network\\_multilayer_perceptron.py:692: ConvergenceWarning: Stochastic Optimizer: Maximum iterations (200) reached and the optimization hasn't converged yet.\n",
            "  warnings.warn(\n",
            "c:\\Users\\giannos\\Anaconda3\\envs\\tf-gpu\\lib\\site-packages\\sklearn\\neural_network\\_multilayer_perceptron.py:692: ConvergenceWarning: Stochastic Optimizer: Maximum iterations (200) reached and the optimization hasn't converged yet.\n",
            "  warnings.warn(\n",
            "c:\\Users\\giannos\\Anaconda3\\envs\\tf-gpu\\lib\\site-packages\\sklearn\\neural_network\\_multilayer_perceptron.py:692: ConvergenceWarning: Stochastic Optimizer: Maximum iterations (200) reached and the optimization hasn't converged yet.\n",
            "  warnings.warn(\n",
            "c:\\Users\\giannos\\Anaconda3\\envs\\tf-gpu\\lib\\site-packages\\sklearn\\neural_network\\_multilayer_perceptron.py:692: ConvergenceWarning: Stochastic Optimizer: Maximum iterations (200) reached and the optimization hasn't converged yet.\n",
            "  warnings.warn(\n",
            "c:\\Users\\giannos\\Anaconda3\\envs\\tf-gpu\\lib\\site-packages\\sklearn\\neural_network\\_multilayer_perceptron.py:692: ConvergenceWarning: Stochastic Optimizer: Maximum iterations (200) reached and the optimization hasn't converged yet.\n",
            "  warnings.warn(\n",
            "c:\\Users\\giannos\\Anaconda3\\envs\\tf-gpu\\lib\\site-packages\\sklearn\\neural_network\\_multilayer_perceptron.py:692: ConvergenceWarning: Stochastic Optimizer: Maximum iterations (200) reached and the optimization hasn't converged yet.\n",
            "  warnings.warn(\n",
            "c:\\Users\\giannos\\Anaconda3\\envs\\tf-gpu\\lib\\site-packages\\sklearn\\neural_network\\_multilayer_perceptron.py:692: ConvergenceWarning: Stochastic Optimizer: Maximum iterations (200) reached and the optimization hasn't converged yet.\n",
            "  warnings.warn(\n",
            "c:\\Users\\giannos\\Anaconda3\\envs\\tf-gpu\\lib\\site-packages\\sklearn\\neural_network\\_multilayer_perceptron.py:692: ConvergenceWarning: Stochastic Optimizer: Maximum iterations (200) reached and the optimization hasn't converged yet.\n",
            "  warnings.warn(\n",
            "c:\\Users\\giannos\\Anaconda3\\envs\\tf-gpu\\lib\\site-packages\\sklearn\\neural_network\\_multilayer_perceptron.py:692: ConvergenceWarning: Stochastic Optimizer: Maximum iterations (200) reached and the optimization hasn't converged yet.\n",
            "  warnings.warn(\n",
            "c:\\Users\\giannos\\Anaconda3\\envs\\tf-gpu\\lib\\site-packages\\sklearn\\neural_network\\_multilayer_perceptron.py:692: ConvergenceWarning: Stochastic Optimizer: Maximum iterations (200) reached and the optimization hasn't converged yet.\n",
            "  warnings.warn(\n",
            "c:\\Users\\giannos\\Anaconda3\\envs\\tf-gpu\\lib\\site-packages\\sklearn\\neural_network\\_multilayer_perceptron.py:692: ConvergenceWarning: Stochastic Optimizer: Maximum iterations (200) reached and the optimization hasn't converged yet.\n",
            "  warnings.warn(\n",
            "c:\\Users\\giannos\\Anaconda3\\envs\\tf-gpu\\lib\\site-packages\\sklearn\\neural_network\\_multilayer_perceptron.py:692: ConvergenceWarning: Stochastic Optimizer: Maximum iterations (200) reached and the optimization hasn't converged yet.\n",
            "  warnings.warn(\n",
            "c:\\Users\\giannos\\Anaconda3\\envs\\tf-gpu\\lib\\site-packages\\sklearn\\neural_network\\_multilayer_perceptron.py:692: ConvergenceWarning: Stochastic Optimizer: Maximum iterations (200) reached and the optimization hasn't converged yet.\n",
            "  warnings.warn(\n",
            "c:\\Users\\giannos\\Anaconda3\\envs\\tf-gpu\\lib\\site-packages\\sklearn\\neural_network\\_multilayer_perceptron.py:692: ConvergenceWarning: Stochastic Optimizer: Maximum iterations (200) reached and the optimization hasn't converged yet.\n",
            "  warnings.warn(\n",
            "c:\\Users\\giannos\\Anaconda3\\envs\\tf-gpu\\lib\\site-packages\\sklearn\\neural_network\\_multilayer_perceptron.py:692: ConvergenceWarning: Stochastic Optimizer: Maximum iterations (200) reached and the optimization hasn't converged yet.\n",
            "  warnings.warn(\n",
            "c:\\Users\\giannos\\Anaconda3\\envs\\tf-gpu\\lib\\site-packages\\sklearn\\neural_network\\_multilayer_perceptron.py:692: ConvergenceWarning: Stochastic Optimizer: Maximum iterations (200) reached and the optimization hasn't converged yet.\n",
            "  warnings.warn(\n",
            "c:\\Users\\giannos\\Anaconda3\\envs\\tf-gpu\\lib\\site-packages\\sklearn\\neural_network\\_multilayer_perceptron.py:692: ConvergenceWarning: Stochastic Optimizer: Maximum iterations (200) reached and the optimization hasn't converged yet.\n",
            "  warnings.warn(\n",
            "c:\\Users\\giannos\\Anaconda3\\envs\\tf-gpu\\lib\\site-packages\\sklearn\\neural_network\\_multilayer_perceptron.py:692: ConvergenceWarning: Stochastic Optimizer: Maximum iterations (200) reached and the optimization hasn't converged yet.\n",
            "  warnings.warn(\n",
            "c:\\Users\\giannos\\Anaconda3\\envs\\tf-gpu\\lib\\site-packages\\sklearn\\neural_network\\_multilayer_perceptron.py:692: ConvergenceWarning: Stochastic Optimizer: Maximum iterations (200) reached and the optimization hasn't converged yet.\n",
            "  warnings.warn(\n",
            "c:\\Users\\giannos\\Anaconda3\\envs\\tf-gpu\\lib\\site-packages\\sklearn\\neural_network\\_multilayer_perceptron.py:692: ConvergenceWarning: Stochastic Optimizer: Maximum iterations (200) reached and the optimization hasn't converged yet.\n",
            "  warnings.warn(\n",
            "c:\\Users\\giannos\\Anaconda3\\envs\\tf-gpu\\lib\\site-packages\\sklearn\\neural_network\\_multilayer_perceptron.py:692: ConvergenceWarning: Stochastic Optimizer: Maximum iterations (200) reached and the optimization hasn't converged yet.\n",
            "  warnings.warn(\n",
            "c:\\Users\\giannos\\Anaconda3\\envs\\tf-gpu\\lib\\site-packages\\sklearn\\neural_network\\_multilayer_perceptron.py:692: ConvergenceWarning: Stochastic Optimizer: Maximum iterations (200) reached and the optimization hasn't converged yet.\n",
            "  warnings.warn(\n",
            "c:\\Users\\giannos\\Anaconda3\\envs\\tf-gpu\\lib\\site-packages\\sklearn\\neural_network\\_multilayer_perceptron.py:692: ConvergenceWarning: Stochastic Optimizer: Maximum iterations (200) reached and the optimization hasn't converged yet.\n",
            "  warnings.warn(\n",
            "c:\\Users\\giannos\\Anaconda3\\envs\\tf-gpu\\lib\\site-packages\\sklearn\\neural_network\\_multilayer_perceptron.py:692: ConvergenceWarning: Stochastic Optimizer: Maximum iterations (200) reached and the optimization hasn't converged yet.\n",
            "  warnings.warn(\n",
            "c:\\Users\\giannos\\Anaconda3\\envs\\tf-gpu\\lib\\site-packages\\sklearn\\neural_network\\_multilayer_perceptron.py:692: ConvergenceWarning: Stochastic Optimizer: Maximum iterations (200) reached and the optimization hasn't converged yet.\n",
            "  warnings.warn(\n",
            "c:\\Users\\giannos\\Anaconda3\\envs\\tf-gpu\\lib\\site-packages\\sklearn\\neural_network\\_multilayer_perceptron.py:692: ConvergenceWarning: Stochastic Optimizer: Maximum iterations (200) reached and the optimization hasn't converged yet.\n",
            "  warnings.warn(\n",
            "c:\\Users\\giannos\\Anaconda3\\envs\\tf-gpu\\lib\\site-packages\\sklearn\\neural_network\\_multilayer_perceptron.py:692: ConvergenceWarning: Stochastic Optimizer: Maximum iterations (200) reached and the optimization hasn't converged yet.\n",
            "  warnings.warn(\n",
            "c:\\Users\\giannos\\Anaconda3\\envs\\tf-gpu\\lib\\site-packages\\sklearn\\neural_network\\_multilayer_perceptron.py:692: ConvergenceWarning: Stochastic Optimizer: Maximum iterations (200) reached and the optimization hasn't converged yet.\n",
            "  warnings.warn(\n",
            "c:\\Users\\giannos\\Anaconda3\\envs\\tf-gpu\\lib\\site-packages\\sklearn\\neural_network\\_multilayer_perceptron.py:692: ConvergenceWarning: Stochastic Optimizer: Maximum iterations (200) reached and the optimization hasn't converged yet.\n",
            "  warnings.warn(\n",
            "c:\\Users\\giannos\\Anaconda3\\envs\\tf-gpu\\lib\\site-packages\\sklearn\\neural_network\\_multilayer_perceptron.py:692: ConvergenceWarning: Stochastic Optimizer: Maximum iterations (200) reached and the optimization hasn't converged yet.\n",
            "  warnings.warn(\n",
            "c:\\Users\\giannos\\Anaconda3\\envs\\tf-gpu\\lib\\site-packages\\sklearn\\neural_network\\_multilayer_perceptron.py:692: ConvergenceWarning: Stochastic Optimizer: Maximum iterations (200) reached and the optimization hasn't converged yet.\n",
            "  warnings.warn(\n",
            "c:\\Users\\giannos\\Anaconda3\\envs\\tf-gpu\\lib\\site-packages\\sklearn\\neural_network\\_multilayer_perceptron.py:692: ConvergenceWarning: Stochastic Optimizer: Maximum iterations (200) reached and the optimization hasn't converged yet.\n",
            "  warnings.warn(\n",
            "c:\\Users\\giannos\\Anaconda3\\envs\\tf-gpu\\lib\\site-packages\\sklearn\\neural_network\\_multilayer_perceptron.py:692: ConvergenceWarning: Stochastic Optimizer: Maximum iterations (200) reached and the optimization hasn't converged yet.\n",
            "  warnings.warn(\n",
            "c:\\Users\\giannos\\Anaconda3\\envs\\tf-gpu\\lib\\site-packages\\sklearn\\neural_network\\_multilayer_perceptron.py:692: ConvergenceWarning: Stochastic Optimizer: Maximum iterations (200) reached and the optimization hasn't converged yet.\n",
            "  warnings.warn(\n",
            "c:\\Users\\giannos\\Anaconda3\\envs\\tf-gpu\\lib\\site-packages\\sklearn\\neural_network\\_multilayer_perceptron.py:692: ConvergenceWarning: Stochastic Optimizer: Maximum iterations (200) reached and the optimization hasn't converged yet.\n",
            "  warnings.warn(\n",
            "c:\\Users\\giannos\\Anaconda3\\envs\\tf-gpu\\lib\\site-packages\\sklearn\\neural_network\\_multilayer_perceptron.py:692: ConvergenceWarning: Stochastic Optimizer: Maximum iterations (200) reached and the optimization hasn't converged yet.\n",
            "  warnings.warn(\n",
            "c:\\Users\\giannos\\Anaconda3\\envs\\tf-gpu\\lib\\site-packages\\sklearn\\neural_network\\_multilayer_perceptron.py:692: ConvergenceWarning: Stochastic Optimizer: Maximum iterations (200) reached and the optimization hasn't converged yet.\n",
            "  warnings.warn(\n",
            "c:\\Users\\giannos\\Anaconda3\\envs\\tf-gpu\\lib\\site-packages\\sklearn\\neural_network\\_multilayer_perceptron.py:692: ConvergenceWarning: Stochastic Optimizer: Maximum iterations (200) reached and the optimization hasn't converged yet.\n",
            "  warnings.warn(\n",
            "c:\\Users\\giannos\\Anaconda3\\envs\\tf-gpu\\lib\\site-packages\\sklearn\\neural_network\\_multilayer_perceptron.py:692: ConvergenceWarning: Stochastic Optimizer: Maximum iterations (200) reached and the optimization hasn't converged yet.\n",
            "  warnings.warn(\n",
            "c:\\Users\\giannos\\Anaconda3\\envs\\tf-gpu\\lib\\site-packages\\sklearn\\neural_network\\_multilayer_perceptron.py:692: ConvergenceWarning: Stochastic Optimizer: Maximum iterations (200) reached and the optimization hasn't converged yet.\n",
            "  warnings.warn(\n",
            "c:\\Users\\giannos\\Anaconda3\\envs\\tf-gpu\\lib\\site-packages\\sklearn\\neural_network\\_multilayer_perceptron.py:692: ConvergenceWarning: Stochastic Optimizer: Maximum iterations (200) reached and the optimization hasn't converged yet.\n",
            "  warnings.warn(\n",
            "c:\\Users\\giannos\\Anaconda3\\envs\\tf-gpu\\lib\\site-packages\\sklearn\\neural_network\\_multilayer_perceptron.py:692: ConvergenceWarning: Stochastic Optimizer: Maximum iterations (200) reached and the optimization hasn't converged yet.\n",
            "  warnings.warn(\n",
            "c:\\Users\\giannos\\Anaconda3\\envs\\tf-gpu\\lib\\site-packages\\sklearn\\neural_network\\_multilayer_perceptron.py:692: ConvergenceWarning: Stochastic Optimizer: Maximum iterations (200) reached and the optimization hasn't converged yet.\n",
            "  warnings.warn(\n",
            "c:\\Users\\giannos\\Anaconda3\\envs\\tf-gpu\\lib\\site-packages\\sklearn\\neural_network\\_multilayer_perceptron.py:692: ConvergenceWarning: Stochastic Optimizer: Maximum iterations (200) reached and the optimization hasn't converged yet.\n",
            "  warnings.warn(\n",
            "c:\\Users\\giannos\\Anaconda3\\envs\\tf-gpu\\lib\\site-packages\\sklearn\\neural_network\\_multilayer_perceptron.py:692: ConvergenceWarning: Stochastic Optimizer: Maximum iterations (200) reached and the optimization hasn't converged yet.\n",
            "  warnings.warn(\n",
            "c:\\Users\\giannos\\Anaconda3\\envs\\tf-gpu\\lib\\site-packages\\sklearn\\neural_network\\_multilayer_perceptron.py:692: ConvergenceWarning: Stochastic Optimizer: Maximum iterations (200) reached and the optimization hasn't converged yet.\n",
            "  warnings.warn(\n",
            "c:\\Users\\giannos\\Anaconda3\\envs\\tf-gpu\\lib\\site-packages\\sklearn\\neural_network\\_multilayer_perceptron.py:692: ConvergenceWarning: Stochastic Optimizer: Maximum iterations (200) reached and the optimization hasn't converged yet.\n",
            "  warnings.warn(\n",
            "c:\\Users\\giannos\\Anaconda3\\envs\\tf-gpu\\lib\\site-packages\\sklearn\\neural_network\\_multilayer_perceptron.py:692: ConvergenceWarning: Stochastic Optimizer: Maximum iterations (200) reached and the optimization hasn't converged yet.\n",
            "  warnings.warn(\n",
            "c:\\Users\\giannos\\Anaconda3\\envs\\tf-gpu\\lib\\site-packages\\sklearn\\neural_network\\_multilayer_perceptron.py:692: ConvergenceWarning: Stochastic Optimizer: Maximum iterations (200) reached and the optimization hasn't converged yet.\n",
            "  warnings.warn(\n",
            "c:\\Users\\giannos\\Anaconda3\\envs\\tf-gpu\\lib\\site-packages\\sklearn\\neural_network\\_multilayer_perceptron.py:692: ConvergenceWarning: Stochastic Optimizer: Maximum iterations (200) reached and the optimization hasn't converged yet.\n",
            "  warnings.warn(\n",
            "c:\\Users\\giannos\\Anaconda3\\envs\\tf-gpu\\lib\\site-packages\\sklearn\\neural_network\\_multilayer_perceptron.py:692: ConvergenceWarning: Stochastic Optimizer: Maximum iterations (200) reached and the optimization hasn't converged yet.\n",
            "  warnings.warn(\n",
            "c:\\Users\\giannos\\Anaconda3\\envs\\tf-gpu\\lib\\site-packages\\sklearn\\neural_network\\_multilayer_perceptron.py:692: ConvergenceWarning: Stochastic Optimizer: Maximum iterations (200) reached and the optimization hasn't converged yet.\n",
            "  warnings.warn(\n",
            "c:\\Users\\giannos\\Anaconda3\\envs\\tf-gpu\\lib\\site-packages\\sklearn\\neural_network\\_multilayer_perceptron.py:692: ConvergenceWarning: Stochastic Optimizer: Maximum iterations (200) reached and the optimization hasn't converged yet.\n",
            "  warnings.warn(\n",
            "c:\\Users\\giannos\\Anaconda3\\envs\\tf-gpu\\lib\\site-packages\\sklearn\\neural_network\\_multilayer_perceptron.py:692: ConvergenceWarning: Stochastic Optimizer: Maximum iterations (200) reached and the optimization hasn't converged yet.\n",
            "  warnings.warn(\n",
            "c:\\Users\\giannos\\Anaconda3\\envs\\tf-gpu\\lib\\site-packages\\sklearn\\neural_network\\_multilayer_perceptron.py:692: ConvergenceWarning: Stochastic Optimizer: Maximum iterations (200) reached and the optimization hasn't converged yet.\n",
            "  warnings.warn(\n",
            "c:\\Users\\giannos\\Anaconda3\\envs\\tf-gpu\\lib\\site-packages\\sklearn\\neural_network\\_multilayer_perceptron.py:692: ConvergenceWarning: Stochastic Optimizer: Maximum iterations (200) reached and the optimization hasn't converged yet.\n",
            "  warnings.warn(\n",
            "c:\\Users\\giannos\\Anaconda3\\envs\\tf-gpu\\lib\\site-packages\\sklearn\\neural_network\\_multilayer_perceptron.py:692: ConvergenceWarning: Stochastic Optimizer: Maximum iterations (200) reached and the optimization hasn't converged yet.\n",
            "  warnings.warn(\n",
            "c:\\Users\\giannos\\Anaconda3\\envs\\tf-gpu\\lib\\site-packages\\sklearn\\neural_network\\_multilayer_perceptron.py:692: ConvergenceWarning: Stochastic Optimizer: Maximum iterations (200) reached and the optimization hasn't converged yet.\n",
            "  warnings.warn(\n",
            "c:\\Users\\giannos\\Anaconda3\\envs\\tf-gpu\\lib\\site-packages\\sklearn\\neural_network\\_multilayer_perceptron.py:692: ConvergenceWarning: Stochastic Optimizer: Maximum iterations (200) reached and the optimization hasn't converged yet.\n",
            "  warnings.warn(\n",
            "c:\\Users\\giannos\\Anaconda3\\envs\\tf-gpu\\lib\\site-packages\\sklearn\\neural_network\\_multilayer_perceptron.py:692: ConvergenceWarning: Stochastic Optimizer: Maximum iterations (200) reached and the optimization hasn't converged yet.\n",
            "  warnings.warn(\n",
            "c:\\Users\\giannos\\Anaconda3\\envs\\tf-gpu\\lib\\site-packages\\sklearn\\neural_network\\_multilayer_perceptron.py:692: ConvergenceWarning: Stochastic Optimizer: Maximum iterations (200) reached and the optimization hasn't converged yet.\n",
            "  warnings.warn(\n",
            "c:\\Users\\giannos\\Anaconda3\\envs\\tf-gpu\\lib\\site-packages\\sklearn\\neural_network\\_multilayer_perceptron.py:692: ConvergenceWarning: Stochastic Optimizer: Maximum iterations (200) reached and the optimization hasn't converged yet.\n",
            "  warnings.warn(\n",
            "c:\\Users\\giannos\\Anaconda3\\envs\\tf-gpu\\lib\\site-packages\\sklearn\\neural_network\\_multilayer_perceptron.py:692: ConvergenceWarning: Stochastic Optimizer: Maximum iterations (200) reached and the optimization hasn't converged yet.\n",
            "  warnings.warn(\n",
            "c:\\Users\\giannos\\Anaconda3\\envs\\tf-gpu\\lib\\site-packages\\sklearn\\neural_network\\_multilayer_perceptron.py:692: ConvergenceWarning: Stochastic Optimizer: Maximum iterations (200) reached and the optimization hasn't converged yet.\n",
            "  warnings.warn(\n",
            "c:\\Users\\giannos\\Anaconda3\\envs\\tf-gpu\\lib\\site-packages\\sklearn\\neural_network\\_multilayer_perceptron.py:692: ConvergenceWarning: Stochastic Optimizer: Maximum iterations (200) reached and the optimization hasn't converged yet.\n",
            "  warnings.warn(\n",
            "c:\\Users\\giannos\\Anaconda3\\envs\\tf-gpu\\lib\\site-packages\\sklearn\\neural_network\\_multilayer_perceptron.py:692: ConvergenceWarning: Stochastic Optimizer: Maximum iterations (200) reached and the optimization hasn't converged yet.\n",
            "  warnings.warn(\n",
            "c:\\Users\\giannos\\Anaconda3\\envs\\tf-gpu\\lib\\site-packages\\sklearn\\neural_network\\_multilayer_perceptron.py:692: ConvergenceWarning: Stochastic Optimizer: Maximum iterations (200) reached and the optimization hasn't converged yet.\n",
            "  warnings.warn(\n",
            "c:\\Users\\giannos\\Anaconda3\\envs\\tf-gpu\\lib\\site-packages\\sklearn\\neural_network\\_multilayer_perceptron.py:692: ConvergenceWarning: Stochastic Optimizer: Maximum iterations (200) reached and the optimization hasn't converged yet.\n",
            "  warnings.warn(\n",
            "c:\\Users\\giannos\\Anaconda3\\envs\\tf-gpu\\lib\\site-packages\\sklearn\\neural_network\\_multilayer_perceptron.py:692: ConvergenceWarning: Stochastic Optimizer: Maximum iterations (200) reached and the optimization hasn't converged yet.\n",
            "  warnings.warn(\n",
            "c:\\Users\\giannos\\Anaconda3\\envs\\tf-gpu\\lib\\site-packages\\sklearn\\neural_network\\_multilayer_perceptron.py:692: ConvergenceWarning: Stochastic Optimizer: Maximum iterations (200) reached and the optimization hasn't converged yet.\n",
            "  warnings.warn(\n",
            "c:\\Users\\giannos\\Anaconda3\\envs\\tf-gpu\\lib\\site-packages\\sklearn\\neural_network\\_multilayer_perceptron.py:692: ConvergenceWarning: Stochastic Optimizer: Maximum iterations (200) reached and the optimization hasn't converged yet.\n",
            "  warnings.warn(\n",
            "c:\\Users\\giannos\\Anaconda3\\envs\\tf-gpu\\lib\\site-packages\\sklearn\\neural_network\\_multilayer_perceptron.py:692: ConvergenceWarning: Stochastic Optimizer: Maximum iterations (200) reached and the optimization hasn't converged yet.\n",
            "  warnings.warn(\n",
            "c:\\Users\\giannos\\Anaconda3\\envs\\tf-gpu\\lib\\site-packages\\sklearn\\neural_network\\_multilayer_perceptron.py:692: ConvergenceWarning: Stochastic Optimizer: Maximum iterations (200) reached and the optimization hasn't converged yet.\n",
            "  warnings.warn(\n",
            "c:\\Users\\giannos\\Anaconda3\\envs\\tf-gpu\\lib\\site-packages\\sklearn\\neural_network\\_multilayer_perceptron.py:692: ConvergenceWarning: Stochastic Optimizer: Maximum iterations (200) reached and the optimization hasn't converged yet.\n",
            "  warnings.warn(\n",
            "c:\\Users\\giannos\\Anaconda3\\envs\\tf-gpu\\lib\\site-packages\\sklearn\\neural_network\\_multilayer_perceptron.py:692: ConvergenceWarning: Stochastic Optimizer: Maximum iterations (200) reached and the optimization hasn't converged yet.\n",
            "  warnings.warn(\n",
            "c:\\Users\\giannos\\Anaconda3\\envs\\tf-gpu\\lib\\site-packages\\sklearn\\neural_network\\_multilayer_perceptron.py:692: ConvergenceWarning: Stochastic Optimizer: Maximum iterations (200) reached and the optimization hasn't converged yet.\n",
            "  warnings.warn(\n",
            "c:\\Users\\giannos\\Anaconda3\\envs\\tf-gpu\\lib\\site-packages\\sklearn\\neural_network\\_multilayer_perceptron.py:692: ConvergenceWarning: Stochastic Optimizer: Maximum iterations (200) reached and the optimization hasn't converged yet.\n",
            "  warnings.warn(\n",
            "c:\\Users\\giannos\\Anaconda3\\envs\\tf-gpu\\lib\\site-packages\\sklearn\\neural_network\\_multilayer_perceptron.py:692: ConvergenceWarning: Stochastic Optimizer: Maximum iterations (200) reached and the optimization hasn't converged yet.\n",
            "  warnings.warn(\n",
            "c:\\Users\\giannos\\Anaconda3\\envs\\tf-gpu\\lib\\site-packages\\sklearn\\neural_network\\_multilayer_perceptron.py:692: ConvergenceWarning: Stochastic Optimizer: Maximum iterations (200) reached and the optimization hasn't converged yet.\n",
            "  warnings.warn(\n",
            "c:\\Users\\giannos\\Anaconda3\\envs\\tf-gpu\\lib\\site-packages\\sklearn\\neural_network\\_multilayer_perceptron.py:692: ConvergenceWarning: Stochastic Optimizer: Maximum iterations (200) reached and the optimization hasn't converged yet.\n",
            "  warnings.warn(\n",
            "c:\\Users\\giannos\\Anaconda3\\envs\\tf-gpu\\lib\\site-packages\\sklearn\\neural_network\\_multilayer_perceptron.py:692: ConvergenceWarning: Stochastic Optimizer: Maximum iterations (200) reached and the optimization hasn't converged yet.\n",
            "  warnings.warn(\n",
            "c:\\Users\\giannos\\Anaconda3\\envs\\tf-gpu\\lib\\site-packages\\sklearn\\neural_network\\_multilayer_perceptron.py:692: ConvergenceWarning: Stochastic Optimizer: Maximum iterations (200) reached and the optimization hasn't converged yet.\n",
            "  warnings.warn(\n",
            "c:\\Users\\giannos\\Anaconda3\\envs\\tf-gpu\\lib\\site-packages\\sklearn\\neural_network\\_multilayer_perceptron.py:692: ConvergenceWarning: Stochastic Optimizer: Maximum iterations (200) reached and the optimization hasn't converged yet.\n",
            "  warnings.warn(\n",
            "c:\\Users\\giannos\\Anaconda3\\envs\\tf-gpu\\lib\\site-packages\\sklearn\\neural_network\\_multilayer_perceptron.py:692: ConvergenceWarning: Stochastic Optimizer: Maximum iterations (200) reached and the optimization hasn't converged yet.\n",
            "  warnings.warn(\n",
            "c:\\Users\\giannos\\Anaconda3\\envs\\tf-gpu\\lib\\site-packages\\sklearn\\neural_network\\_multilayer_perceptron.py:692: ConvergenceWarning: Stochastic Optimizer: Maximum iterations (200) reached and the optimization hasn't converged yet.\n",
            "  warnings.warn(\n",
            "c:\\Users\\giannos\\Anaconda3\\envs\\tf-gpu\\lib\\site-packages\\sklearn\\neural_network\\_multilayer_perceptron.py:692: ConvergenceWarning: Stochastic Optimizer: Maximum iterations (200) reached and the optimization hasn't converged yet.\n",
            "  warnings.warn(\n",
            "c:\\Users\\giannos\\Anaconda3\\envs\\tf-gpu\\lib\\site-packages\\sklearn\\neural_network\\_multilayer_perceptron.py:692: ConvergenceWarning: Stochastic Optimizer: Maximum iterations (200) reached and the optimization hasn't converged yet.\n",
            "  warnings.warn(\n",
            "c:\\Users\\giannos\\Anaconda3\\envs\\tf-gpu\\lib\\site-packages\\sklearn\\neural_network\\_multilayer_perceptron.py:692: ConvergenceWarning: Stochastic Optimizer: Maximum iterations (200) reached and the optimization hasn't converged yet.\n",
            "  warnings.warn(\n",
            "c:\\Users\\giannos\\Anaconda3\\envs\\tf-gpu\\lib\\site-packages\\sklearn\\neural_network\\_multilayer_perceptron.py:692: ConvergenceWarning: Stochastic Optimizer: Maximum iterations (200) reached and the optimization hasn't converged yet.\n",
            "  warnings.warn(\n",
            "c:\\Users\\giannos\\Anaconda3\\envs\\tf-gpu\\lib\\site-packages\\sklearn\\neural_network\\_multilayer_perceptron.py:692: ConvergenceWarning: Stochastic Optimizer: Maximum iterations (200) reached and the optimization hasn't converged yet.\n",
            "  warnings.warn(\n",
            "c:\\Users\\giannos\\Anaconda3\\envs\\tf-gpu\\lib\\site-packages\\sklearn\\neural_network\\_multilayer_perceptron.py:692: ConvergenceWarning: Stochastic Optimizer: Maximum iterations (200) reached and the optimization hasn't converged yet.\n",
            "  warnings.warn(\n",
            "c:\\Users\\giannos\\Anaconda3\\envs\\tf-gpu\\lib\\site-packages\\sklearn\\neural_network\\_multilayer_perceptron.py:692: ConvergenceWarning: Stochastic Optimizer: Maximum iterations (200) reached and the optimization hasn't converged yet.\n",
            "  warnings.warn(\n",
            "c:\\Users\\giannos\\Anaconda3\\envs\\tf-gpu\\lib\\site-packages\\sklearn\\neural_network\\_multilayer_perceptron.py:692: ConvergenceWarning: Stochastic Optimizer: Maximum iterations (200) reached and the optimization hasn't converged yet.\n",
            "  warnings.warn(\n",
            "c:\\Users\\giannos\\Anaconda3\\envs\\tf-gpu\\lib\\site-packages\\sklearn\\neural_network\\_multilayer_perceptron.py:692: ConvergenceWarning: Stochastic Optimizer: Maximum iterations (200) reached and the optimization hasn't converged yet.\n",
            "  warnings.warn(\n",
            "c:\\Users\\giannos\\Anaconda3\\envs\\tf-gpu\\lib\\site-packages\\sklearn\\neural_network\\_multilayer_perceptron.py:692: ConvergenceWarning: Stochastic Optimizer: Maximum iterations (200) reached and the optimization hasn't converged yet.\n",
            "  warnings.warn(\n",
            "c:\\Users\\giannos\\Anaconda3\\envs\\tf-gpu\\lib\\site-packages\\sklearn\\neural_network\\_multilayer_perceptron.py:692: ConvergenceWarning: Stochastic Optimizer: Maximum iterations (200) reached and the optimization hasn't converged yet.\n",
            "  warnings.warn(\n",
            "c:\\Users\\giannos\\Anaconda3\\envs\\tf-gpu\\lib\\site-packages\\sklearn\\neural_network\\_multilayer_perceptron.py:692: ConvergenceWarning: Stochastic Optimizer: Maximum iterations (200) reached and the optimization hasn't converged yet.\n",
            "  warnings.warn(\n",
            "c:\\Users\\giannos\\Anaconda3\\envs\\tf-gpu\\lib\\site-packages\\sklearn\\neural_network\\_multilayer_perceptron.py:692: ConvergenceWarning: Stochastic Optimizer: Maximum iterations (200) reached and the optimization hasn't converged yet.\n",
            "  warnings.warn(\n",
            "c:\\Users\\giannos\\Anaconda3\\envs\\tf-gpu\\lib\\site-packages\\sklearn\\neural_network\\_multilayer_perceptron.py:692: ConvergenceWarning: Stochastic Optimizer: Maximum iterations (200) reached and the optimization hasn't converged yet.\n",
            "  warnings.warn(\n",
            "c:\\Users\\giannos\\Anaconda3\\envs\\tf-gpu\\lib\\site-packages\\sklearn\\neural_network\\_multilayer_perceptron.py:692: ConvergenceWarning: Stochastic Optimizer: Maximum iterations (200) reached and the optimization hasn't converged yet.\n",
            "  warnings.warn(\n",
            "c:\\Users\\giannos\\Anaconda3\\envs\\tf-gpu\\lib\\site-packages\\sklearn\\neural_network\\_multilayer_perceptron.py:692: ConvergenceWarning: Stochastic Optimizer: Maximum iterations (200) reached and the optimization hasn't converged yet.\n",
            "  warnings.warn(\n",
            "c:\\Users\\giannos\\Anaconda3\\envs\\tf-gpu\\lib\\site-packages\\sklearn\\neural_network\\_multilayer_perceptron.py:692: ConvergenceWarning: Stochastic Optimizer: Maximum iterations (200) reached and the optimization hasn't converged yet.\n",
            "  warnings.warn(\n",
            "c:\\Users\\giannos\\Anaconda3\\envs\\tf-gpu\\lib\\site-packages\\sklearn\\neural_network\\_multilayer_perceptron.py:692: ConvergenceWarning: Stochastic Optimizer: Maximum iterations (200) reached and the optimization hasn't converged yet.\n",
            "  warnings.warn(\n",
            "c:\\Users\\giannos\\Anaconda3\\envs\\tf-gpu\\lib\\site-packages\\sklearn\\neural_network\\_multilayer_perceptron.py:692: ConvergenceWarning: Stochastic Optimizer: Maximum iterations (200) reached and the optimization hasn't converged yet.\n",
            "  warnings.warn(\n",
            "c:\\Users\\giannos\\Anaconda3\\envs\\tf-gpu\\lib\\site-packages\\sklearn\\neural_network\\_multilayer_perceptron.py:692: ConvergenceWarning: Stochastic Optimizer: Maximum iterations (200) reached and the optimization hasn't converged yet.\n",
            "  warnings.warn(\n",
            "c:\\Users\\giannos\\Anaconda3\\envs\\tf-gpu\\lib\\site-packages\\sklearn\\neural_network\\_multilayer_perceptron.py:692: ConvergenceWarning: Stochastic Optimizer: Maximum iterations (200) reached and the optimization hasn't converged yet.\n",
            "  warnings.warn(\n",
            "c:\\Users\\giannos\\Anaconda3\\envs\\tf-gpu\\lib\\site-packages\\sklearn\\neural_network\\_multilayer_perceptron.py:692: ConvergenceWarning: Stochastic Optimizer: Maximum iterations (200) reached and the optimization hasn't converged yet.\n",
            "  warnings.warn(\n",
            "c:\\Users\\giannos\\Anaconda3\\envs\\tf-gpu\\lib\\site-packages\\sklearn\\neural_network\\_multilayer_perceptron.py:692: ConvergenceWarning: Stochastic Optimizer: Maximum iterations (200) reached and the optimization hasn't converged yet.\n",
            "  warnings.warn(\n",
            "c:\\Users\\giannos\\Anaconda3\\envs\\tf-gpu\\lib\\site-packages\\sklearn\\neural_network\\_multilayer_perceptron.py:692: ConvergenceWarning: Stochastic Optimizer: Maximum iterations (200) reached and the optimization hasn't converged yet.\n",
            "  warnings.warn(\n",
            "c:\\Users\\giannos\\Anaconda3\\envs\\tf-gpu\\lib\\site-packages\\sklearn\\neural_network\\_multilayer_perceptron.py:692: ConvergenceWarning: Stochastic Optimizer: Maximum iterations (200) reached and the optimization hasn't converged yet.\n",
            "  warnings.warn(\n",
            "c:\\Users\\giannos\\Anaconda3\\envs\\tf-gpu\\lib\\site-packages\\sklearn\\neural_network\\_multilayer_perceptron.py:692: ConvergenceWarning: Stochastic Optimizer: Maximum iterations (200) reached and the optimization hasn't converged yet.\n",
            "  warnings.warn(\n",
            "c:\\Users\\giannos\\Anaconda3\\envs\\tf-gpu\\lib\\site-packages\\sklearn\\neural_network\\_multilayer_perceptron.py:692: ConvergenceWarning: Stochastic Optimizer: Maximum iterations (200) reached and the optimization hasn't converged yet.\n",
            "  warnings.warn(\n",
            "c:\\Users\\giannos\\Anaconda3\\envs\\tf-gpu\\lib\\site-packages\\sklearn\\neural_network\\_multilayer_perceptron.py:692: ConvergenceWarning: Stochastic Optimizer: Maximum iterations (200) reached and the optimization hasn't converged yet.\n",
            "  warnings.warn(\n",
            "c:\\Users\\giannos\\Anaconda3\\envs\\tf-gpu\\lib\\site-packages\\sklearn\\neural_network\\_multilayer_perceptron.py:692: ConvergenceWarning: Stochastic Optimizer: Maximum iterations (200) reached and the optimization hasn't converged yet.\n",
            "  warnings.warn(\n",
            "c:\\Users\\giannos\\Anaconda3\\envs\\tf-gpu\\lib\\site-packages\\sklearn\\neural_network\\_multilayer_perceptron.py:692: ConvergenceWarning: Stochastic Optimizer: Maximum iterations (200) reached and the optimization hasn't converged yet.\n",
            "  warnings.warn(\n",
            "c:\\Users\\giannos\\Anaconda3\\envs\\tf-gpu\\lib\\site-packages\\sklearn\\neural_network\\_multilayer_perceptron.py:692: ConvergenceWarning: Stochastic Optimizer: Maximum iterations (200) reached and the optimization hasn't converged yet.\n",
            "  warnings.warn(\n",
            "c:\\Users\\giannos\\Anaconda3\\envs\\tf-gpu\\lib\\site-packages\\sklearn\\neural_network\\_multilayer_perceptron.py:692: ConvergenceWarning: Stochastic Optimizer: Maximum iterations (200) reached and the optimization hasn't converged yet.\n",
            "  warnings.warn(\n",
            "c:\\Users\\giannos\\Anaconda3\\envs\\tf-gpu\\lib\\site-packages\\sklearn\\neural_network\\_multilayer_perceptron.py:692: ConvergenceWarning: Stochastic Optimizer: Maximum iterations (200) reached and the optimization hasn't converged yet.\n",
            "  warnings.warn(\n",
            "c:\\Users\\giannos\\Anaconda3\\envs\\tf-gpu\\lib\\site-packages\\sklearn\\neural_network\\_multilayer_perceptron.py:692: ConvergenceWarning: Stochastic Optimizer: Maximum iterations (200) reached and the optimization hasn't converged yet.\n",
            "  warnings.warn(\n",
            "c:\\Users\\giannos\\Anaconda3\\envs\\tf-gpu\\lib\\site-packages\\sklearn\\neural_network\\_multilayer_perceptron.py:692: ConvergenceWarning: Stochastic Optimizer: Maximum iterations (200) reached and the optimization hasn't converged yet.\n",
            "  warnings.warn(\n",
            "c:\\Users\\giannos\\Anaconda3\\envs\\tf-gpu\\lib\\site-packages\\sklearn\\neural_network\\_multilayer_perceptron.py:692: ConvergenceWarning: Stochastic Optimizer: Maximum iterations (200) reached and the optimization hasn't converged yet.\n",
            "  warnings.warn(\n",
            "c:\\Users\\giannos\\Anaconda3\\envs\\tf-gpu\\lib\\site-packages\\sklearn\\neural_network\\_multilayer_perceptron.py:692: ConvergenceWarning: Stochastic Optimizer: Maximum iterations (200) reached and the optimization hasn't converged yet.\n",
            "  warnings.warn(\n",
            "c:\\Users\\giannos\\Anaconda3\\envs\\tf-gpu\\lib\\site-packages\\sklearn\\neural_network\\_multilayer_perceptron.py:692: ConvergenceWarning: Stochastic Optimizer: Maximum iterations (200) reached and the optimization hasn't converged yet.\n",
            "  warnings.warn(\n",
            "c:\\Users\\giannos\\Anaconda3\\envs\\tf-gpu\\lib\\site-packages\\sklearn\\neural_network\\_multilayer_perceptron.py:692: ConvergenceWarning: Stochastic Optimizer: Maximum iterations (200) reached and the optimization hasn't converged yet.\n",
            "  warnings.warn(\n",
            "c:\\Users\\giannos\\Anaconda3\\envs\\tf-gpu\\lib\\site-packages\\sklearn\\neural_network\\_multilayer_perceptron.py:692: ConvergenceWarning: Stochastic Optimizer: Maximum iterations (200) reached and the optimization hasn't converged yet.\n",
            "  warnings.warn(\n",
            "c:\\Users\\giannos\\Anaconda3\\envs\\tf-gpu\\lib\\site-packages\\sklearn\\neural_network\\_multilayer_perceptron.py:692: ConvergenceWarning: Stochastic Optimizer: Maximum iterations (200) reached and the optimization hasn't converged yet.\n",
            "  warnings.warn(\n",
            "c:\\Users\\giannos\\Anaconda3\\envs\\tf-gpu\\lib\\site-packages\\sklearn\\neural_network\\_multilayer_perceptron.py:692: ConvergenceWarning: Stochastic Optimizer: Maximum iterations (200) reached and the optimization hasn't converged yet.\n",
            "  warnings.warn(\n",
            "c:\\Users\\giannos\\Anaconda3\\envs\\tf-gpu\\lib\\site-packages\\sklearn\\neural_network\\_multilayer_perceptron.py:692: ConvergenceWarning: Stochastic Optimizer: Maximum iterations (200) reached and the optimization hasn't converged yet.\n",
            "  warnings.warn(\n",
            "c:\\Users\\giannos\\Anaconda3\\envs\\tf-gpu\\lib\\site-packages\\sklearn\\neural_network\\_multilayer_perceptron.py:692: ConvergenceWarning: Stochastic Optimizer: Maximum iterations (200) reached and the optimization hasn't converged yet.\n",
            "  warnings.warn(\n",
            "c:\\Users\\giannos\\Anaconda3\\envs\\tf-gpu\\lib\\site-packages\\sklearn\\neural_network\\_multilayer_perceptron.py:692: ConvergenceWarning: Stochastic Optimizer: Maximum iterations (200) reached and the optimization hasn't converged yet.\n",
            "  warnings.warn(\n",
            "c:\\Users\\giannos\\Anaconda3\\envs\\tf-gpu\\lib\\site-packages\\sklearn\\neural_network\\_multilayer_perceptron.py:692: ConvergenceWarning: Stochastic Optimizer: Maximum iterations (200) reached and the optimization hasn't converged yet.\n",
            "  warnings.warn(\n",
            "c:\\Users\\giannos\\Anaconda3\\envs\\tf-gpu\\lib\\site-packages\\sklearn\\neural_network\\_multilayer_perceptron.py:692: ConvergenceWarning: Stochastic Optimizer: Maximum iterations (200) reached and the optimization hasn't converged yet.\n",
            "  warnings.warn(\n",
            "c:\\Users\\giannos\\Anaconda3\\envs\\tf-gpu\\lib\\site-packages\\sklearn\\neural_network\\_multilayer_perceptron.py:692: ConvergenceWarning: Stochastic Optimizer: Maximum iterations (200) reached and the optimization hasn't converged yet.\n",
            "  warnings.warn(\n",
            "c:\\Users\\giannos\\Anaconda3\\envs\\tf-gpu\\lib\\site-packages\\sklearn\\neural_network\\_multilayer_perceptron.py:692: ConvergenceWarning: Stochastic Optimizer: Maximum iterations (200) reached and the optimization hasn't converged yet.\n",
            "  warnings.warn(\n",
            "c:\\Users\\giannos\\Anaconda3\\envs\\tf-gpu\\lib\\site-packages\\sklearn\\neural_network\\_multilayer_perceptron.py:692: ConvergenceWarning: Stochastic Optimizer: Maximum iterations (200) reached and the optimization hasn't converged yet.\n",
            "  warnings.warn(\n",
            "c:\\Users\\giannos\\Anaconda3\\envs\\tf-gpu\\lib\\site-packages\\sklearn\\neural_network\\_multilayer_perceptron.py:692: ConvergenceWarning: Stochastic Optimizer: Maximum iterations (200) reached and the optimization hasn't converged yet.\n",
            "  warnings.warn(\n",
            "c:\\Users\\giannos\\Anaconda3\\envs\\tf-gpu\\lib\\site-packages\\sklearn\\neural_network\\_multilayer_perceptron.py:692: ConvergenceWarning: Stochastic Optimizer: Maximum iterations (200) reached and the optimization hasn't converged yet.\n",
            "  warnings.warn(\n",
            "c:\\Users\\giannos\\Anaconda3\\envs\\tf-gpu\\lib\\site-packages\\sklearn\\neural_network\\_multilayer_perceptron.py:692: ConvergenceWarning: Stochastic Optimizer: Maximum iterations (200) reached and the optimization hasn't converged yet.\n",
            "  warnings.warn(\n",
            "c:\\Users\\giannos\\Anaconda3\\envs\\tf-gpu\\lib\\site-packages\\sklearn\\neural_network\\_multilayer_perceptron.py:692: ConvergenceWarning: Stochastic Optimizer: Maximum iterations (200) reached and the optimization hasn't converged yet.\n",
            "  warnings.warn(\n",
            "c:\\Users\\giannos\\Anaconda3\\envs\\tf-gpu\\lib\\site-packages\\sklearn\\neural_network\\_multilayer_perceptron.py:692: ConvergenceWarning: Stochastic Optimizer: Maximum iterations (200) reached and the optimization hasn't converged yet.\n",
            "  warnings.warn(\n",
            "c:\\Users\\giannos\\Anaconda3\\envs\\tf-gpu\\lib\\site-packages\\sklearn\\neural_network\\_multilayer_perceptron.py:692: ConvergenceWarning: Stochastic Optimizer: Maximum iterations (200) reached and the optimization hasn't converged yet.\n",
            "  warnings.warn(\n",
            "c:\\Users\\giannos\\Anaconda3\\envs\\tf-gpu\\lib\\site-packages\\sklearn\\neural_network\\_multilayer_perceptron.py:692: ConvergenceWarning: Stochastic Optimizer: Maximum iterations (200) reached and the optimization hasn't converged yet.\n",
            "  warnings.warn(\n",
            "c:\\Users\\giannos\\Anaconda3\\envs\\tf-gpu\\lib\\site-packages\\sklearn\\neural_network\\_multilayer_perceptron.py:692: ConvergenceWarning: Stochastic Optimizer: Maximum iterations (200) reached and the optimization hasn't converged yet.\n",
            "  warnings.warn(\n",
            "c:\\Users\\giannos\\Anaconda3\\envs\\tf-gpu\\lib\\site-packages\\sklearn\\neural_network\\_multilayer_perceptron.py:692: ConvergenceWarning: Stochastic Optimizer: Maximum iterations (200) reached and the optimization hasn't converged yet.\n",
            "  warnings.warn(\n",
            "c:\\Users\\giannos\\Anaconda3\\envs\\tf-gpu\\lib\\site-packages\\sklearn\\neural_network\\_multilayer_perceptron.py:692: ConvergenceWarning: Stochastic Optimizer: Maximum iterations (200) reached and the optimization hasn't converged yet.\n",
            "  warnings.warn(\n",
            "c:\\Users\\giannos\\Anaconda3\\envs\\tf-gpu\\lib\\site-packages\\sklearn\\neural_network\\_multilayer_perceptron.py:692: ConvergenceWarning: Stochastic Optimizer: Maximum iterations (200) reached and the optimization hasn't converged yet.\n",
            "  warnings.warn(\n",
            "c:\\Users\\giannos\\Anaconda3\\envs\\tf-gpu\\lib\\site-packages\\sklearn\\neural_network\\_multilayer_perceptron.py:692: ConvergenceWarning: Stochastic Optimizer: Maximum iterations (200) reached and the optimization hasn't converged yet.\n",
            "  warnings.warn(\n",
            "c:\\Users\\giannos\\Anaconda3\\envs\\tf-gpu\\lib\\site-packages\\sklearn\\neural_network\\_multilayer_perceptron.py:692: ConvergenceWarning: Stochastic Optimizer: Maximum iterations (200) reached and the optimization hasn't converged yet.\n",
            "  warnings.warn(\n",
            "c:\\Users\\giannos\\Anaconda3\\envs\\tf-gpu\\lib\\site-packages\\sklearn\\neural_network\\_multilayer_perceptron.py:692: ConvergenceWarning: Stochastic Optimizer: Maximum iterations (200) reached and the optimization hasn't converged yet.\n",
            "  warnings.warn(\n",
            "c:\\Users\\giannos\\Anaconda3\\envs\\tf-gpu\\lib\\site-packages\\sklearn\\neural_network\\_multilayer_perceptron.py:692: ConvergenceWarning: Stochastic Optimizer: Maximum iterations (200) reached and the optimization hasn't converged yet.\n",
            "  warnings.warn(\n",
            "c:\\Users\\giannos\\Anaconda3\\envs\\tf-gpu\\lib\\site-packages\\sklearn\\neural_network\\_multilayer_perceptron.py:692: ConvergenceWarning: Stochastic Optimizer: Maximum iterations (200) reached and the optimization hasn't converged yet.\n",
            "  warnings.warn(\n",
            "c:\\Users\\giannos\\Anaconda3\\envs\\tf-gpu\\lib\\site-packages\\sklearn\\neural_network\\_multilayer_perceptron.py:692: ConvergenceWarning: Stochastic Optimizer: Maximum iterations (200) reached and the optimization hasn't converged yet.\n",
            "  warnings.warn(\n",
            "c:\\Users\\giannos\\Anaconda3\\envs\\tf-gpu\\lib\\site-packages\\sklearn\\neural_network\\_multilayer_perceptron.py:692: ConvergenceWarning: Stochastic Optimizer: Maximum iterations (200) reached and the optimization hasn't converged yet.\n",
            "  warnings.warn(\n",
            "c:\\Users\\giannos\\Anaconda3\\envs\\tf-gpu\\lib\\site-packages\\sklearn\\neural_network\\_multilayer_perceptron.py:692: ConvergenceWarning: Stochastic Optimizer: Maximum iterations (200) reached and the optimization hasn't converged yet.\n",
            "  warnings.warn(\n",
            "c:\\Users\\giannos\\Anaconda3\\envs\\tf-gpu\\lib\\site-packages\\sklearn\\neural_network\\_multilayer_perceptron.py:692: ConvergenceWarning: Stochastic Optimizer: Maximum iterations (200) reached and the optimization hasn't converged yet.\n",
            "  warnings.warn(\n",
            "c:\\Users\\giannos\\Anaconda3\\envs\\tf-gpu\\lib\\site-packages\\sklearn\\neural_network\\_multilayer_perceptron.py:692: ConvergenceWarning: Stochastic Optimizer: Maximum iterations (200) reached and the optimization hasn't converged yet.\n",
            "  warnings.warn(\n",
            "c:\\Users\\giannos\\Anaconda3\\envs\\tf-gpu\\lib\\site-packages\\sklearn\\neural_network\\_multilayer_perceptron.py:692: ConvergenceWarning: Stochastic Optimizer: Maximum iterations (200) reached and the optimization hasn't converged yet.\n",
            "  warnings.warn(\n",
            "c:\\Users\\giannos\\Anaconda3\\envs\\tf-gpu\\lib\\site-packages\\sklearn\\neural_network\\_multilayer_perceptron.py:692: ConvergenceWarning: Stochastic Optimizer: Maximum iterations (200) reached and the optimization hasn't converged yet.\n",
            "  warnings.warn(\n",
            "c:\\Users\\giannos\\Anaconda3\\envs\\tf-gpu\\lib\\site-packages\\sklearn\\neural_network\\_multilayer_perceptron.py:692: ConvergenceWarning: Stochastic Optimizer: Maximum iterations (200) reached and the optimization hasn't converged yet.\n",
            "  warnings.warn(\n",
            "c:\\Users\\giannos\\Anaconda3\\envs\\tf-gpu\\lib\\site-packages\\sklearn\\neural_network\\_multilayer_perceptron.py:692: ConvergenceWarning: Stochastic Optimizer: Maximum iterations (200) reached and the optimization hasn't converged yet.\n",
            "  warnings.warn(\n",
            "c:\\Users\\giannos\\Anaconda3\\envs\\tf-gpu\\lib\\site-packages\\sklearn\\neural_network\\_multilayer_perceptron.py:692: ConvergenceWarning: Stochastic Optimizer: Maximum iterations (200) reached and the optimization hasn't converged yet.\n",
            "  warnings.warn(\n",
            "c:\\Users\\giannos\\Anaconda3\\envs\\tf-gpu\\lib\\site-packages\\sklearn\\neural_network\\_multilayer_perceptron.py:692: ConvergenceWarning: Stochastic Optimizer: Maximum iterations (200) reached and the optimization hasn't converged yet.\n",
            "  warnings.warn(\n",
            "c:\\Users\\giannos\\Anaconda3\\envs\\tf-gpu\\lib\\site-packages\\sklearn\\neural_network\\_multilayer_perceptron.py:692: ConvergenceWarning: Stochastic Optimizer: Maximum iterations (200) reached and the optimization hasn't converged yet.\n",
            "  warnings.warn(\n",
            "c:\\Users\\giannos\\Anaconda3\\envs\\tf-gpu\\lib\\site-packages\\sklearn\\neural_network\\_multilayer_perceptron.py:692: ConvergenceWarning: Stochastic Optimizer: Maximum iterations (200) reached and the optimization hasn't converged yet.\n",
            "  warnings.warn(\n",
            "c:\\Users\\giannos\\Anaconda3\\envs\\tf-gpu\\lib\\site-packages\\sklearn\\neural_network\\_multilayer_perceptron.py:692: ConvergenceWarning: Stochastic Optimizer: Maximum iterations (200) reached and the optimization hasn't converged yet.\n",
            "  warnings.warn(\n",
            "c:\\Users\\giannos\\Anaconda3\\envs\\tf-gpu\\lib\\site-packages\\sklearn\\neural_network\\_multilayer_perceptron.py:692: ConvergenceWarning: Stochastic Optimizer: Maximum iterations (200) reached and the optimization hasn't converged yet.\n",
            "  warnings.warn(\n",
            "c:\\Users\\giannos\\Anaconda3\\envs\\tf-gpu\\lib\\site-packages\\sklearn\\neural_network\\_multilayer_perceptron.py:692: ConvergenceWarning: Stochastic Optimizer: Maximum iterations (200) reached and the optimization hasn't converged yet.\n",
            "  warnings.warn(\n",
            "c:\\Users\\giannos\\Anaconda3\\envs\\tf-gpu\\lib\\site-packages\\sklearn\\neural_network\\_multilayer_perceptron.py:692: ConvergenceWarning: Stochastic Optimizer: Maximum iterations (200) reached and the optimization hasn't converged yet.\n",
            "  warnings.warn(\n",
            "c:\\Users\\giannos\\Anaconda3\\envs\\tf-gpu\\lib\\site-packages\\sklearn\\neural_network\\_multilayer_perceptron.py:692: ConvergenceWarning: Stochastic Optimizer: Maximum iterations (200) reached and the optimization hasn't converged yet.\n",
            "  warnings.warn(\n",
            "c:\\Users\\giannos\\Anaconda3\\envs\\tf-gpu\\lib\\site-packages\\sklearn\\neural_network\\_multilayer_perceptron.py:692: ConvergenceWarning: Stochastic Optimizer: Maximum iterations (200) reached and the optimization hasn't converged yet.\n",
            "  warnings.warn(\n",
            "c:\\Users\\giannos\\Anaconda3\\envs\\tf-gpu\\lib\\site-packages\\sklearn\\neural_network\\_multilayer_perceptron.py:692: ConvergenceWarning: Stochastic Optimizer: Maximum iterations (200) reached and the optimization hasn't converged yet.\n",
            "  warnings.warn(\n",
            "c:\\Users\\giannos\\Anaconda3\\envs\\tf-gpu\\lib\\site-packages\\sklearn\\neural_network\\_multilayer_perceptron.py:692: ConvergenceWarning: Stochastic Optimizer: Maximum iterations (200) reached and the optimization hasn't converged yet.\n",
            "  warnings.warn(\n",
            "c:\\Users\\giannos\\Anaconda3\\envs\\tf-gpu\\lib\\site-packages\\sklearn\\neural_network\\_multilayer_perceptron.py:692: ConvergenceWarning: Stochastic Optimizer: Maximum iterations (200) reached and the optimization hasn't converged yet.\n",
            "  warnings.warn(\n",
            "c:\\Users\\giannos\\Anaconda3\\envs\\tf-gpu\\lib\\site-packages\\sklearn\\neural_network\\_multilayer_perceptron.py:692: ConvergenceWarning: Stochastic Optimizer: Maximum iterations (200) reached and the optimization hasn't converged yet.\n",
            "  warnings.warn(\n",
            "c:\\Users\\giannos\\Anaconda3\\envs\\tf-gpu\\lib\\site-packages\\sklearn\\neural_network\\_multilayer_perceptron.py:692: ConvergenceWarning: Stochastic Optimizer: Maximum iterations (200) reached and the optimization hasn't converged yet.\n",
            "  warnings.warn(\n",
            "c:\\Users\\giannos\\Anaconda3\\envs\\tf-gpu\\lib\\site-packages\\sklearn\\neural_network\\_multilayer_perceptron.py:692: ConvergenceWarning: Stochastic Optimizer: Maximum iterations (200) reached and the optimization hasn't converged yet.\n",
            "  warnings.warn(\n",
            "c:\\Users\\giannos\\Anaconda3\\envs\\tf-gpu\\lib\\site-packages\\sklearn\\neural_network\\_multilayer_perceptron.py:692: ConvergenceWarning: Stochastic Optimizer: Maximum iterations (200) reached and the optimization hasn't converged yet.\n",
            "  warnings.warn(\n",
            "c:\\Users\\giannos\\Anaconda3\\envs\\tf-gpu\\lib\\site-packages\\sklearn\\neural_network\\_multilayer_perceptron.py:692: ConvergenceWarning: Stochastic Optimizer: Maximum iterations (200) reached and the optimization hasn't converged yet.\n",
            "  warnings.warn(\n",
            "c:\\Users\\giannos\\Anaconda3\\envs\\tf-gpu\\lib\\site-packages\\sklearn\\neural_network\\_multilayer_perceptron.py:692: ConvergenceWarning: Stochastic Optimizer: Maximum iterations (200) reached and the optimization hasn't converged yet.\n",
            "  warnings.warn(\n",
            "c:\\Users\\giannos\\Anaconda3\\envs\\tf-gpu\\lib\\site-packages\\sklearn\\neural_network\\_multilayer_perceptron.py:692: ConvergenceWarning: Stochastic Optimizer: Maximum iterations (200) reached and the optimization hasn't converged yet.\n",
            "  warnings.warn(\n",
            "c:\\Users\\giannos\\Anaconda3\\envs\\tf-gpu\\lib\\site-packages\\sklearn\\neural_network\\_multilayer_perceptron.py:692: ConvergenceWarning: Stochastic Optimizer: Maximum iterations (200) reached and the optimization hasn't converged yet.\n",
            "  warnings.warn(\n",
            "c:\\Users\\giannos\\Anaconda3\\envs\\tf-gpu\\lib\\site-packages\\sklearn\\neural_network\\_multilayer_perceptron.py:692: ConvergenceWarning: Stochastic Optimizer: Maximum iterations (200) reached and the optimization hasn't converged yet.\n",
            "  warnings.warn(\n",
            "c:\\Users\\giannos\\Anaconda3\\envs\\tf-gpu\\lib\\site-packages\\sklearn\\neural_network\\_multilayer_perceptron.py:692: ConvergenceWarning: Stochastic Optimizer: Maximum iterations (200) reached and the optimization hasn't converged yet.\n",
            "  warnings.warn(\n",
            "c:\\Users\\giannos\\Anaconda3\\envs\\tf-gpu\\lib\\site-packages\\sklearn\\neural_network\\_multilayer_perceptron.py:692: ConvergenceWarning: Stochastic Optimizer: Maximum iterations (200) reached and the optimization hasn't converged yet.\n",
            "  warnings.warn(\n",
            "c:\\Users\\giannos\\Anaconda3\\envs\\tf-gpu\\lib\\site-packages\\sklearn\\neural_network\\_multilayer_perceptron.py:692: ConvergenceWarning: Stochastic Optimizer: Maximum iterations (200) reached and the optimization hasn't converged yet.\n",
            "  warnings.warn(\n",
            "c:\\Users\\giannos\\Anaconda3\\envs\\tf-gpu\\lib\\site-packages\\sklearn\\neural_network\\_multilayer_perceptron.py:692: ConvergenceWarning: Stochastic Optimizer: Maximum iterations (200) reached and the optimization hasn't converged yet.\n",
            "  warnings.warn(\n",
            "c:\\Users\\giannos\\Anaconda3\\envs\\tf-gpu\\lib\\site-packages\\sklearn\\neural_network\\_multilayer_perceptron.py:692: ConvergenceWarning: Stochastic Optimizer: Maximum iterations (200) reached and the optimization hasn't converged yet.\n",
            "  warnings.warn(\n",
            "c:\\Users\\giannos\\Anaconda3\\envs\\tf-gpu\\lib\\site-packages\\sklearn\\neural_network\\_multilayer_perceptron.py:692: ConvergenceWarning: Stochastic Optimizer: Maximum iterations (200) reached and the optimization hasn't converged yet.\n",
            "  warnings.warn(\n",
            "c:\\Users\\giannos\\Anaconda3\\envs\\tf-gpu\\lib\\site-packages\\sklearn\\neural_network\\_multilayer_perceptron.py:692: ConvergenceWarning: Stochastic Optimizer: Maximum iterations (200) reached and the optimization hasn't converged yet.\n",
            "  warnings.warn(\n",
            "c:\\Users\\giannos\\Anaconda3\\envs\\tf-gpu\\lib\\site-packages\\sklearn\\neural_network\\_multilayer_perceptron.py:692: ConvergenceWarning: Stochastic Optimizer: Maximum iterations (200) reached and the optimization hasn't converged yet.\n",
            "  warnings.warn(\n",
            "c:\\Users\\giannos\\Anaconda3\\envs\\tf-gpu\\lib\\site-packages\\sklearn\\neural_network\\_multilayer_perceptron.py:692: ConvergenceWarning: Stochastic Optimizer: Maximum iterations (200) reached and the optimization hasn't converged yet.\n",
            "  warnings.warn(\n",
            "c:\\Users\\giannos\\Anaconda3\\envs\\tf-gpu\\lib\\site-packages\\sklearn\\neural_network\\_multilayer_perceptron.py:692: ConvergenceWarning: Stochastic Optimizer: Maximum iterations (200) reached and the optimization hasn't converged yet.\n",
            "  warnings.warn(\n",
            "c:\\Users\\giannos\\Anaconda3\\envs\\tf-gpu\\lib\\site-packages\\sklearn\\neural_network\\_multilayer_perceptron.py:692: ConvergenceWarning: Stochastic Optimizer: Maximum iterations (200) reached and the optimization hasn't converged yet.\n",
            "  warnings.warn(\n",
            "c:\\Users\\giannos\\Anaconda3\\envs\\tf-gpu\\lib\\site-packages\\sklearn\\neural_network\\_multilayer_perceptron.py:692: ConvergenceWarning: Stochastic Optimizer: Maximum iterations (200) reached and the optimization hasn't converged yet.\n",
            "  warnings.warn(\n",
            "c:\\Users\\giannos\\Anaconda3\\envs\\tf-gpu\\lib\\site-packages\\sklearn\\neural_network\\_multilayer_perceptron.py:692: ConvergenceWarning: Stochastic Optimizer: Maximum iterations (200) reached and the optimization hasn't converged yet.\n",
            "  warnings.warn(\n",
            "c:\\Users\\giannos\\Anaconda3\\envs\\tf-gpu\\lib\\site-packages\\sklearn\\neural_network\\_multilayer_perceptron.py:692: ConvergenceWarning: Stochastic Optimizer: Maximum iterations (200) reached and the optimization hasn't converged yet.\n",
            "  warnings.warn(\n",
            "c:\\Users\\giannos\\Anaconda3\\envs\\tf-gpu\\lib\\site-packages\\sklearn\\neural_network\\_multilayer_perceptron.py:692: ConvergenceWarning: Stochastic Optimizer: Maximum iterations (200) reached and the optimization hasn't converged yet.\n",
            "  warnings.warn(\n",
            "c:\\Users\\giannos\\Anaconda3\\envs\\tf-gpu\\lib\\site-packages\\sklearn\\neural_network\\_multilayer_perceptron.py:692: ConvergenceWarning: Stochastic Optimizer: Maximum iterations (200) reached and the optimization hasn't converged yet.\n",
            "  warnings.warn(\n",
            "c:\\Users\\giannos\\Anaconda3\\envs\\tf-gpu\\lib\\site-packages\\sklearn\\neural_network\\_multilayer_perceptron.py:692: ConvergenceWarning: Stochastic Optimizer: Maximum iterations (200) reached and the optimization hasn't converged yet.\n",
            "  warnings.warn(\n",
            "c:\\Users\\giannos\\Anaconda3\\envs\\tf-gpu\\lib\\site-packages\\sklearn\\neural_network\\_multilayer_perceptron.py:692: ConvergenceWarning: Stochastic Optimizer: Maximum iterations (200) reached and the optimization hasn't converged yet.\n",
            "  warnings.warn(\n",
            "c:\\Users\\giannos\\Anaconda3\\envs\\tf-gpu\\lib\\site-packages\\sklearn\\neural_network\\_multilayer_perceptron.py:692: ConvergenceWarning: Stochastic Optimizer: Maximum iterations (200) reached and the optimization hasn't converged yet.\n",
            "  warnings.warn(\n",
            "c:\\Users\\giannos\\Anaconda3\\envs\\tf-gpu\\lib\\site-packages\\sklearn\\neural_network\\_multilayer_perceptron.py:692: ConvergenceWarning: Stochastic Optimizer: Maximum iterations (200) reached and the optimization hasn't converged yet.\n",
            "  warnings.warn(\n",
            "c:\\Users\\giannos\\Anaconda3\\envs\\tf-gpu\\lib\\site-packages\\sklearn\\neural_network\\_multilayer_perceptron.py:692: ConvergenceWarning: Stochastic Optimizer: Maximum iterations (200) reached and the optimization hasn't converged yet.\n",
            "  warnings.warn(\n",
            "c:\\Users\\giannos\\Anaconda3\\envs\\tf-gpu\\lib\\site-packages\\sklearn\\neural_network\\_multilayer_perceptron.py:692: ConvergenceWarning: Stochastic Optimizer: Maximum iterations (200) reached and the optimization hasn't converged yet.\n",
            "  warnings.warn(\n",
            "c:\\Users\\giannos\\Anaconda3\\envs\\tf-gpu\\lib\\site-packages\\sklearn\\neural_network\\_multilayer_perceptron.py:692: ConvergenceWarning: Stochastic Optimizer: Maximum iterations (200) reached and the optimization hasn't converged yet.\n",
            "  warnings.warn(\n",
            "c:\\Users\\giannos\\Anaconda3\\envs\\tf-gpu\\lib\\site-packages\\sklearn\\neural_network\\_multilayer_perceptron.py:692: ConvergenceWarning: Stochastic Optimizer: Maximum iterations (200) reached and the optimization hasn't converged yet.\n",
            "  warnings.warn(\n",
            "c:\\Users\\giannos\\Anaconda3\\envs\\tf-gpu\\lib\\site-packages\\sklearn\\neural_network\\_multilayer_perceptron.py:692: ConvergenceWarning: Stochastic Optimizer: Maximum iterations (200) reached and the optimization hasn't converged yet.\n",
            "  warnings.warn(\n",
            "c:\\Users\\giannos\\Anaconda3\\envs\\tf-gpu\\lib\\site-packages\\sklearn\\neural_network\\_multilayer_perceptron.py:692: ConvergenceWarning: Stochastic Optimizer: Maximum iterations (200) reached and the optimization hasn't converged yet.\n",
            "  warnings.warn(\n",
            "c:\\Users\\giannos\\Anaconda3\\envs\\tf-gpu\\lib\\site-packages\\sklearn\\neural_network\\_multilayer_perceptron.py:692: ConvergenceWarning: Stochastic Optimizer: Maximum iterations (200) reached and the optimization hasn't converged yet.\n",
            "  warnings.warn(\n",
            "c:\\Users\\giannos\\Anaconda3\\envs\\tf-gpu\\lib\\site-packages\\sklearn\\neural_network\\_multilayer_perceptron.py:692: ConvergenceWarning: Stochastic Optimizer: Maximum iterations (200) reached and the optimization hasn't converged yet.\n",
            "  warnings.warn(\n",
            "c:\\Users\\giannos\\Anaconda3\\envs\\tf-gpu\\lib\\site-packages\\sklearn\\neural_network\\_multilayer_perceptron.py:692: ConvergenceWarning: Stochastic Optimizer: Maximum iterations (200) reached and the optimization hasn't converged yet.\n",
            "  warnings.warn(\n",
            "c:\\Users\\giannos\\Anaconda3\\envs\\tf-gpu\\lib\\site-packages\\sklearn\\neural_network\\_multilayer_perceptron.py:692: ConvergenceWarning: Stochastic Optimizer: Maximum iterations (200) reached and the optimization hasn't converged yet.\n",
            "  warnings.warn(\n",
            "c:\\Users\\giannos\\Anaconda3\\envs\\tf-gpu\\lib\\site-packages\\sklearn\\neural_network\\_multilayer_perceptron.py:692: ConvergenceWarning: Stochastic Optimizer: Maximum iterations (200) reached and the optimization hasn't converged yet.\n",
            "  warnings.warn(\n",
            "c:\\Users\\giannos\\Anaconda3\\envs\\tf-gpu\\lib\\site-packages\\sklearn\\neural_network\\_multilayer_perceptron.py:692: ConvergenceWarning: Stochastic Optimizer: Maximum iterations (200) reached and the optimization hasn't converged yet.\n",
            "  warnings.warn(\n",
            "c:\\Users\\giannos\\Anaconda3\\envs\\tf-gpu\\lib\\site-packages\\sklearn\\neural_network\\_multilayer_perceptron.py:692: ConvergenceWarning: Stochastic Optimizer: Maximum iterations (200) reached and the optimization hasn't converged yet.\n",
            "  warnings.warn(\n",
            "c:\\Users\\giannos\\Anaconda3\\envs\\tf-gpu\\lib\\site-packages\\sklearn\\neural_network\\_multilayer_perceptron.py:692: ConvergenceWarning: Stochastic Optimizer: Maximum iterations (200) reached and the optimization hasn't converged yet.\n",
            "  warnings.warn(\n",
            "c:\\Users\\giannos\\Anaconda3\\envs\\tf-gpu\\lib\\site-packages\\sklearn\\neural_network\\_multilayer_perceptron.py:692: ConvergenceWarning: Stochastic Optimizer: Maximum iterations (200) reached and the optimization hasn't converged yet.\n",
            "  warnings.warn(\n",
            "c:\\Users\\giannos\\Anaconda3\\envs\\tf-gpu\\lib\\site-packages\\sklearn\\neural_network\\_multilayer_perceptron.py:692: ConvergenceWarning: Stochastic Optimizer: Maximum iterations (200) reached and the optimization hasn't converged yet.\n",
            "  warnings.warn(\n",
            "c:\\Users\\giannos\\Anaconda3\\envs\\tf-gpu\\lib\\site-packages\\sklearn\\neural_network\\_multilayer_perceptron.py:692: ConvergenceWarning: Stochastic Optimizer: Maximum iterations (200) reached and the optimization hasn't converged yet.\n",
            "  warnings.warn(\n",
            "c:\\Users\\giannos\\Anaconda3\\envs\\tf-gpu\\lib\\site-packages\\sklearn\\neural_network\\_multilayer_perceptron.py:692: ConvergenceWarning: Stochastic Optimizer: Maximum iterations (200) reached and the optimization hasn't converged yet.\n",
            "  warnings.warn(\n",
            "c:\\Users\\giannos\\Anaconda3\\envs\\tf-gpu\\lib\\site-packages\\sklearn\\neural_network\\_multilayer_perceptron.py:692: ConvergenceWarning: Stochastic Optimizer: Maximum iterations (200) reached and the optimization hasn't converged yet.\n",
            "  warnings.warn(\n",
            "c:\\Users\\giannos\\Anaconda3\\envs\\tf-gpu\\lib\\site-packages\\sklearn\\neural_network\\_multilayer_perceptron.py:692: ConvergenceWarning: Stochastic Optimizer: Maximum iterations (200) reached and the optimization hasn't converged yet.\n",
            "  warnings.warn(\n",
            "c:\\Users\\giannos\\Anaconda3\\envs\\tf-gpu\\lib\\site-packages\\sklearn\\neural_network\\_multilayer_perceptron.py:692: ConvergenceWarning: Stochastic Optimizer: Maximum iterations (200) reached and the optimization hasn't converged yet.\n",
            "  warnings.warn(\n",
            "c:\\Users\\giannos\\Anaconda3\\envs\\tf-gpu\\lib\\site-packages\\sklearn\\neural_network\\_multilayer_perceptron.py:692: ConvergenceWarning: Stochastic Optimizer: Maximum iterations (200) reached and the optimization hasn't converged yet.\n",
            "  warnings.warn(\n",
            "c:\\Users\\giannos\\Anaconda3\\envs\\tf-gpu\\lib\\site-packages\\sklearn\\neural_network\\_multilayer_perceptron.py:692: ConvergenceWarning: Stochastic Optimizer: Maximum iterations (200) reached and the optimization hasn't converged yet.\n",
            "  warnings.warn(\n",
            "c:\\Users\\giannos\\Anaconda3\\envs\\tf-gpu\\lib\\site-packages\\sklearn\\neural_network\\_multilayer_perceptron.py:692: ConvergenceWarning: Stochastic Optimizer: Maximum iterations (200) reached and the optimization hasn't converged yet.\n",
            "  warnings.warn(\n",
            "c:\\Users\\giannos\\Anaconda3\\envs\\tf-gpu\\lib\\site-packages\\sklearn\\neural_network\\_multilayer_perceptron.py:692: ConvergenceWarning: Stochastic Optimizer: Maximum iterations (200) reached and the optimization hasn't converged yet.\n",
            "  warnings.warn(\n",
            "c:\\Users\\giannos\\Anaconda3\\envs\\tf-gpu\\lib\\site-packages\\sklearn\\neural_network\\_multilayer_perceptron.py:692: ConvergenceWarning: Stochastic Optimizer: Maximum iterations (200) reached and the optimization hasn't converged yet.\n",
            "  warnings.warn(\n",
            "c:\\Users\\giannos\\Anaconda3\\envs\\tf-gpu\\lib\\site-packages\\sklearn\\neural_network\\_multilayer_perceptron.py:692: ConvergenceWarning: Stochastic Optimizer: Maximum iterations (200) reached and the optimization hasn't converged yet.\n",
            "  warnings.warn(\n",
            "c:\\Users\\giannos\\Anaconda3\\envs\\tf-gpu\\lib\\site-packages\\sklearn\\neural_network\\_multilayer_perceptron.py:692: ConvergenceWarning: Stochastic Optimizer: Maximum iterations (200) reached and the optimization hasn't converged yet.\n",
            "  warnings.warn(\n",
            "c:\\Users\\giannos\\Anaconda3\\envs\\tf-gpu\\lib\\site-packages\\sklearn\\neural_network\\_multilayer_perceptron.py:692: ConvergenceWarning: Stochastic Optimizer: Maximum iterations (200) reached and the optimization hasn't converged yet.\n",
            "  warnings.warn(\n",
            "c:\\Users\\giannos\\Anaconda3\\envs\\tf-gpu\\lib\\site-packages\\sklearn\\neural_network\\_multilayer_perceptron.py:692: ConvergenceWarning: Stochastic Optimizer: Maximum iterations (200) reached and the optimization hasn't converged yet.\n",
            "  warnings.warn(\n",
            "c:\\Users\\giannos\\Anaconda3\\envs\\tf-gpu\\lib\\site-packages\\sklearn\\neural_network\\_multilayer_perceptron.py:692: ConvergenceWarning: Stochastic Optimizer: Maximum iterations (200) reached and the optimization hasn't converged yet.\n",
            "  warnings.warn(\n",
            "c:\\Users\\giannos\\Anaconda3\\envs\\tf-gpu\\lib\\site-packages\\sklearn\\neural_network\\_multilayer_perceptron.py:692: ConvergenceWarning: Stochastic Optimizer: Maximum iterations (200) reached and the optimization hasn't converged yet.\n",
            "  warnings.warn(\n",
            "c:\\Users\\giannos\\Anaconda3\\envs\\tf-gpu\\lib\\site-packages\\sklearn\\neural_network\\_multilayer_perceptron.py:692: ConvergenceWarning: Stochastic Optimizer: Maximum iterations (200) reached and the optimization hasn't converged yet.\n",
            "  warnings.warn(\n",
            "c:\\Users\\giannos\\Anaconda3\\envs\\tf-gpu\\lib\\site-packages\\sklearn\\neural_network\\_multilayer_perceptron.py:692: ConvergenceWarning: Stochastic Optimizer: Maximum iterations (200) reached and the optimization hasn't converged yet.\n",
            "  warnings.warn(\n",
            "c:\\Users\\giannos\\Anaconda3\\envs\\tf-gpu\\lib\\site-packages\\sklearn\\neural_network\\_multilayer_perceptron.py:692: ConvergenceWarning: Stochastic Optimizer: Maximum iterations (200) reached and the optimization hasn't converged yet.\n",
            "  warnings.warn(\n",
            "c:\\Users\\giannos\\Anaconda3\\envs\\tf-gpu\\lib\\site-packages\\sklearn\\neural_network\\_multilayer_perceptron.py:692: ConvergenceWarning: Stochastic Optimizer: Maximum iterations (200) reached and the optimization hasn't converged yet.\n",
            "  warnings.warn(\n",
            "c:\\Users\\giannos\\Anaconda3\\envs\\tf-gpu\\lib\\site-packages\\sklearn\\neural_network\\_multilayer_perceptron.py:692: ConvergenceWarning: Stochastic Optimizer: Maximum iterations (200) reached and the optimization hasn't converged yet.\n",
            "  warnings.warn(\n",
            "c:\\Users\\giannos\\Anaconda3\\envs\\tf-gpu\\lib\\site-packages\\sklearn\\neural_network\\_multilayer_perceptron.py:692: ConvergenceWarning: Stochastic Optimizer: Maximum iterations (200) reached and the optimization hasn't converged yet.\n",
            "  warnings.warn(\n",
            "c:\\Users\\giannos\\Anaconda3\\envs\\tf-gpu\\lib\\site-packages\\sklearn\\neural_network\\_multilayer_perceptron.py:692: ConvergenceWarning: Stochastic Optimizer: Maximum iterations (200) reached and the optimization hasn't converged yet.\n",
            "  warnings.warn(\n",
            "c:\\Users\\giannos\\Anaconda3\\envs\\tf-gpu\\lib\\site-packages\\sklearn\\neural_network\\_multilayer_perceptron.py:692: ConvergenceWarning: Stochastic Optimizer: Maximum iterations (200) reached and the optimization hasn't converged yet.\n",
            "  warnings.warn(\n",
            "c:\\Users\\giannos\\Anaconda3\\envs\\tf-gpu\\lib\\site-packages\\sklearn\\neural_network\\_multilayer_perceptron.py:692: ConvergenceWarning: Stochastic Optimizer: Maximum iterations (200) reached and the optimization hasn't converged yet.\n",
            "  warnings.warn(\n",
            "c:\\Users\\giannos\\Anaconda3\\envs\\tf-gpu\\lib\\site-packages\\sklearn\\neural_network\\_multilayer_perceptron.py:692: ConvergenceWarning: Stochastic Optimizer: Maximum iterations (200) reached and the optimization hasn't converged yet.\n",
            "  warnings.warn(\n",
            "c:\\Users\\giannos\\Anaconda3\\envs\\tf-gpu\\lib\\site-packages\\sklearn\\neural_network\\_multilayer_perceptron.py:692: ConvergenceWarning: Stochastic Optimizer: Maximum iterations (200) reached and the optimization hasn't converged yet.\n",
            "  warnings.warn(\n",
            "c:\\Users\\giannos\\Anaconda3\\envs\\tf-gpu\\lib\\site-packages\\sklearn\\neural_network\\_multilayer_perceptron.py:692: ConvergenceWarning: Stochastic Optimizer: Maximum iterations (200) reached and the optimization hasn't converged yet.\n",
            "  warnings.warn(\n",
            "c:\\Users\\giannos\\Anaconda3\\envs\\tf-gpu\\lib\\site-packages\\sklearn\\neural_network\\_multilayer_perceptron.py:692: ConvergenceWarning: Stochastic Optimizer: Maximum iterations (200) reached and the optimization hasn't converged yet.\n",
            "  warnings.warn(\n",
            "c:\\Users\\giannos\\Anaconda3\\envs\\tf-gpu\\lib\\site-packages\\sklearn\\neural_network\\_multilayer_perceptron.py:692: ConvergenceWarning: Stochastic Optimizer: Maximum iterations (200) reached and the optimization hasn't converged yet.\n",
            "  warnings.warn(\n",
            "c:\\Users\\giannos\\Anaconda3\\envs\\tf-gpu\\lib\\site-packages\\sklearn\\neural_network\\_multilayer_perceptron.py:692: ConvergenceWarning: Stochastic Optimizer: Maximum iterations (200) reached and the optimization hasn't converged yet.\n",
            "  warnings.warn(\n",
            "c:\\Users\\giannos\\Anaconda3\\envs\\tf-gpu\\lib\\site-packages\\sklearn\\neural_network\\_multilayer_perceptron.py:692: ConvergenceWarning: Stochastic Optimizer: Maximum iterations (200) reached and the optimization hasn't converged yet.\n",
            "  warnings.warn(\n",
            "c:\\Users\\giannos\\Anaconda3\\envs\\tf-gpu\\lib\\site-packages\\sklearn\\neural_network\\_multilayer_perceptron.py:692: ConvergenceWarning: Stochastic Optimizer: Maximum iterations (200) reached and the optimization hasn't converged yet.\n",
            "  warnings.warn(\n",
            "c:\\Users\\giannos\\Anaconda3\\envs\\tf-gpu\\lib\\site-packages\\sklearn\\neural_network\\_multilayer_perceptron.py:692: ConvergenceWarning: Stochastic Optimizer: Maximum iterations (200) reached and the optimization hasn't converged yet.\n",
            "  warnings.warn(\n",
            "c:\\Users\\giannos\\Anaconda3\\envs\\tf-gpu\\lib\\site-packages\\sklearn\\neural_network\\_multilayer_perceptron.py:692: ConvergenceWarning: Stochastic Optimizer: Maximum iterations (200) reached and the optimization hasn't converged yet.\n",
            "  warnings.warn(\n",
            "c:\\Users\\giannos\\Anaconda3\\envs\\tf-gpu\\lib\\site-packages\\sklearn\\neural_network\\_multilayer_perceptron.py:692: ConvergenceWarning: Stochastic Optimizer: Maximum iterations (200) reached and the optimization hasn't converged yet.\n",
            "  warnings.warn(\n",
            "c:\\Users\\giannos\\Anaconda3\\envs\\tf-gpu\\lib\\site-packages\\sklearn\\neural_network\\_multilayer_perceptron.py:692: ConvergenceWarning: Stochastic Optimizer: Maximum iterations (200) reached and the optimization hasn't converged yet.\n",
            "  warnings.warn(\n",
            "c:\\Users\\giannos\\Anaconda3\\envs\\tf-gpu\\lib\\site-packages\\sklearn\\neural_network\\_multilayer_perceptron.py:692: ConvergenceWarning: Stochastic Optimizer: Maximum iterations (200) reached and the optimization hasn't converged yet.\n",
            "  warnings.warn(\n",
            "c:\\Users\\giannos\\Anaconda3\\envs\\tf-gpu\\lib\\site-packages\\sklearn\\neural_network\\_multilayer_perceptron.py:692: ConvergenceWarning: Stochastic Optimizer: Maximum iterations (200) reached and the optimization hasn't converged yet.\n",
            "  warnings.warn(\n",
            "c:\\Users\\giannos\\Anaconda3\\envs\\tf-gpu\\lib\\site-packages\\sklearn\\neural_network\\_multilayer_perceptron.py:692: ConvergenceWarning: Stochastic Optimizer: Maximum iterations (200) reached and the optimization hasn't converged yet.\n",
            "  warnings.warn(\n",
            "c:\\Users\\giannos\\Anaconda3\\envs\\tf-gpu\\lib\\site-packages\\sklearn\\neural_network\\_multilayer_perceptron.py:692: ConvergenceWarning: Stochastic Optimizer: Maximum iterations (200) reached and the optimization hasn't converged yet.\n",
            "  warnings.warn(\n",
            "c:\\Users\\giannos\\Anaconda3\\envs\\tf-gpu\\lib\\site-packages\\sklearn\\neural_network\\_multilayer_perceptron.py:692: ConvergenceWarning: Stochastic Optimizer: Maximum iterations (200) reached and the optimization hasn't converged yet.\n",
            "  warnings.warn(\n",
            "c:\\Users\\giannos\\Anaconda3\\envs\\tf-gpu\\lib\\site-packages\\sklearn\\neural_network\\_multilayer_perceptron.py:692: ConvergenceWarning: Stochastic Optimizer: Maximum iterations (200) reached and the optimization hasn't converged yet.\n",
            "  warnings.warn(\n",
            "c:\\Users\\giannos\\Anaconda3\\envs\\tf-gpu\\lib\\site-packages\\sklearn\\neural_network\\_multilayer_perceptron.py:692: ConvergenceWarning: Stochastic Optimizer: Maximum iterations (200) reached and the optimization hasn't converged yet.\n",
            "  warnings.warn(\n",
            "c:\\Users\\giannos\\Anaconda3\\envs\\tf-gpu\\lib\\site-packages\\sklearn\\neural_network\\_multilayer_perceptron.py:692: ConvergenceWarning: Stochastic Optimizer: Maximum iterations (200) reached and the optimization hasn't converged yet.\n",
            "  warnings.warn(\n",
            "c:\\Users\\giannos\\Anaconda3\\envs\\tf-gpu\\lib\\site-packages\\sklearn\\neural_network\\_multilayer_perceptron.py:692: ConvergenceWarning: Stochastic Optimizer: Maximum iterations (200) reached and the optimization hasn't converged yet.\n",
            "  warnings.warn(\n",
            "c:\\Users\\giannos\\Anaconda3\\envs\\tf-gpu\\lib\\site-packages\\sklearn\\neural_network\\_multilayer_perceptron.py:692: ConvergenceWarning: Stochastic Optimizer: Maximum iterations (200) reached and the optimization hasn't converged yet.\n",
            "  warnings.warn(\n",
            "c:\\Users\\giannos\\Anaconda3\\envs\\tf-gpu\\lib\\site-packages\\sklearn\\neural_network\\_multilayer_perceptron.py:692: ConvergenceWarning: Stochastic Optimizer: Maximum iterations (200) reached and the optimization hasn't converged yet.\n",
            "  warnings.warn(\n",
            "c:\\Users\\giannos\\Anaconda3\\envs\\tf-gpu\\lib\\site-packages\\sklearn\\neural_network\\_multilayer_perceptron.py:692: ConvergenceWarning: Stochastic Optimizer: Maximum iterations (200) reached and the optimization hasn't converged yet.\n",
            "  warnings.warn(\n",
            "c:\\Users\\giannos\\Anaconda3\\envs\\tf-gpu\\lib\\site-packages\\sklearn\\neural_network\\_multilayer_perceptron.py:692: ConvergenceWarning: Stochastic Optimizer: Maximum iterations (200) reached and the optimization hasn't converged yet.\n",
            "  warnings.warn(\n",
            "c:\\Users\\giannos\\Anaconda3\\envs\\tf-gpu\\lib\\site-packages\\sklearn\\neural_network\\_multilayer_perceptron.py:692: ConvergenceWarning: Stochastic Optimizer: Maximum iterations (200) reached and the optimization hasn't converged yet.\n",
            "  warnings.warn(\n",
            "c:\\Users\\giannos\\Anaconda3\\envs\\tf-gpu\\lib\\site-packages\\sklearn\\neural_network\\_multilayer_perceptron.py:692: ConvergenceWarning: Stochastic Optimizer: Maximum iterations (200) reached and the optimization hasn't converged yet.\n",
            "  warnings.warn(\n",
            "c:\\Users\\giannos\\Anaconda3\\envs\\tf-gpu\\lib\\site-packages\\sklearn\\neural_network\\_multilayer_perceptron.py:692: ConvergenceWarning: Stochastic Optimizer: Maximum iterations (200) reached and the optimization hasn't converged yet.\n",
            "  warnings.warn(\n",
            "c:\\Users\\giannos\\Anaconda3\\envs\\tf-gpu\\lib\\site-packages\\sklearn\\neural_network\\_multilayer_perceptron.py:692: ConvergenceWarning: Stochastic Optimizer: Maximum iterations (200) reached and the optimization hasn't converged yet.\n",
            "  warnings.warn(\n",
            "c:\\Users\\giannos\\Anaconda3\\envs\\tf-gpu\\lib\\site-packages\\sklearn\\neural_network\\_multilayer_perceptron.py:692: ConvergenceWarning: Stochastic Optimizer: Maximum iterations (200) reached and the optimization hasn't converged yet.\n",
            "  warnings.warn(\n",
            "c:\\Users\\giannos\\Anaconda3\\envs\\tf-gpu\\lib\\site-packages\\sklearn\\neural_network\\_multilayer_perceptron.py:692: ConvergenceWarning: Stochastic Optimizer: Maximum iterations (200) reached and the optimization hasn't converged yet.\n",
            "  warnings.warn(\n",
            "c:\\Users\\giannos\\Anaconda3\\envs\\tf-gpu\\lib\\site-packages\\sklearn\\neural_network\\_multilayer_perceptron.py:692: ConvergenceWarning: Stochastic Optimizer: Maximum iterations (200) reached and the optimization hasn't converged yet.\n",
            "  warnings.warn(\n",
            "c:\\Users\\giannos\\Anaconda3\\envs\\tf-gpu\\lib\\site-packages\\sklearn\\neural_network\\_multilayer_perceptron.py:692: ConvergenceWarning: Stochastic Optimizer: Maximum iterations (200) reached and the optimization hasn't converged yet.\n",
            "  warnings.warn(\n",
            "c:\\Users\\giannos\\Anaconda3\\envs\\tf-gpu\\lib\\site-packages\\sklearn\\neural_network\\_multilayer_perceptron.py:692: ConvergenceWarning: Stochastic Optimizer: Maximum iterations (200) reached and the optimization hasn't converged yet.\n",
            "  warnings.warn(\n",
            "c:\\Users\\giannos\\Anaconda3\\envs\\tf-gpu\\lib\\site-packages\\sklearn\\neural_network\\_multilayer_perceptron.py:692: ConvergenceWarning: Stochastic Optimizer: Maximum iterations (200) reached and the optimization hasn't converged yet.\n",
            "  warnings.warn(\n",
            "c:\\Users\\giannos\\Anaconda3\\envs\\tf-gpu\\lib\\site-packages\\sklearn\\neural_network\\_multilayer_perceptron.py:692: ConvergenceWarning: Stochastic Optimizer: Maximum iterations (200) reached and the optimization hasn't converged yet.\n",
            "  warnings.warn(\n",
            "c:\\Users\\giannos\\Anaconda3\\envs\\tf-gpu\\lib\\site-packages\\sklearn\\neural_network\\_multilayer_perceptron.py:692: ConvergenceWarning: Stochastic Optimizer: Maximum iterations (200) reached and the optimization hasn't converged yet.\n",
            "  warnings.warn(\n",
            "c:\\Users\\giannos\\Anaconda3\\envs\\tf-gpu\\lib\\site-packages\\sklearn\\neural_network\\_multilayer_perceptron.py:692: ConvergenceWarning: Stochastic Optimizer: Maximum iterations (200) reached and the optimization hasn't converged yet.\n",
            "  warnings.warn(\n",
            "c:\\Users\\giannos\\Anaconda3\\envs\\tf-gpu\\lib\\site-packages\\sklearn\\neural_network\\_multilayer_perceptron.py:692: ConvergenceWarning: Stochastic Optimizer: Maximum iterations (200) reached and the optimization hasn't converged yet.\n",
            "  warnings.warn(\n",
            "c:\\Users\\giannos\\Anaconda3\\envs\\tf-gpu\\lib\\site-packages\\sklearn\\neural_network\\_multilayer_perceptron.py:692: ConvergenceWarning: Stochastic Optimizer: Maximum iterations (200) reached and the optimization hasn't converged yet.\n",
            "  warnings.warn(\n",
            "c:\\Users\\giannos\\Anaconda3\\envs\\tf-gpu\\lib\\site-packages\\sklearn\\neural_network\\_multilayer_perceptron.py:692: ConvergenceWarning: Stochastic Optimizer: Maximum iterations (200) reached and the optimization hasn't converged yet.\n",
            "  warnings.warn(\n",
            "c:\\Users\\giannos\\Anaconda3\\envs\\tf-gpu\\lib\\site-packages\\sklearn\\neural_network\\_multilayer_perceptron.py:692: ConvergenceWarning: Stochastic Optimizer: Maximum iterations (200) reached and the optimization hasn't converged yet.\n",
            "  warnings.warn(\n",
            "c:\\Users\\giannos\\Anaconda3\\envs\\tf-gpu\\lib\\site-packages\\sklearn\\neural_network\\_multilayer_perceptron.py:692: ConvergenceWarning: Stochastic Optimizer: Maximum iterations (200) reached and the optimization hasn't converged yet.\n",
            "  warnings.warn(\n",
            "c:\\Users\\giannos\\Anaconda3\\envs\\tf-gpu\\lib\\site-packages\\sklearn\\neural_network\\_multilayer_perceptron.py:692: ConvergenceWarning: Stochastic Optimizer: Maximum iterations (200) reached and the optimization hasn't converged yet.\n",
            "  warnings.warn(\n",
            "c:\\Users\\giannos\\Anaconda3\\envs\\tf-gpu\\lib\\site-packages\\sklearn\\neural_network\\_multilayer_perceptron.py:692: ConvergenceWarning: Stochastic Optimizer: Maximum iterations (200) reached and the optimization hasn't converged yet.\n",
            "  warnings.warn(\n",
            "c:\\Users\\giannos\\Anaconda3\\envs\\tf-gpu\\lib\\site-packages\\sklearn\\neural_network\\_multilayer_perceptron.py:692: ConvergenceWarning: Stochastic Optimizer: Maximum iterations (200) reached and the optimization hasn't converged yet.\n",
            "  warnings.warn(\n",
            "c:\\Users\\giannos\\Anaconda3\\envs\\tf-gpu\\lib\\site-packages\\sklearn\\neural_network\\_multilayer_perceptron.py:692: ConvergenceWarning: Stochastic Optimizer: Maximum iterations (200) reached and the optimization hasn't converged yet.\n",
            "  warnings.warn(\n",
            "c:\\Users\\giannos\\Anaconda3\\envs\\tf-gpu\\lib\\site-packages\\sklearn\\neural_network\\_multilayer_perceptron.py:692: ConvergenceWarning: Stochastic Optimizer: Maximum iterations (200) reached and the optimization hasn't converged yet.\n",
            "  warnings.warn(\n",
            "c:\\Users\\giannos\\Anaconda3\\envs\\tf-gpu\\lib\\site-packages\\sklearn\\neural_network\\_multilayer_perceptron.py:692: ConvergenceWarning: Stochastic Optimizer: Maximum iterations (200) reached and the optimization hasn't converged yet.\n",
            "  warnings.warn(\n",
            "c:\\Users\\giannos\\Anaconda3\\envs\\tf-gpu\\lib\\site-packages\\sklearn\\neural_network\\_multilayer_perceptron.py:692: ConvergenceWarning: Stochastic Optimizer: Maximum iterations (200) reached and the optimization hasn't converged yet.\n",
            "  warnings.warn(\n",
            "c:\\Users\\giannos\\Anaconda3\\envs\\tf-gpu\\lib\\site-packages\\sklearn\\neural_network\\_multilayer_perceptron.py:692: ConvergenceWarning: Stochastic Optimizer: Maximum iterations (200) reached and the optimization hasn't converged yet.\n",
            "  warnings.warn(\n",
            "c:\\Users\\giannos\\Anaconda3\\envs\\tf-gpu\\lib\\site-packages\\sklearn\\neural_network\\_multilayer_perceptron.py:692: ConvergenceWarning: Stochastic Optimizer: Maximum iterations (200) reached and the optimization hasn't converged yet.\n",
            "  warnings.warn(\n",
            "c:\\Users\\giannos\\Anaconda3\\envs\\tf-gpu\\lib\\site-packages\\sklearn\\neural_network\\_multilayer_perceptron.py:692: ConvergenceWarning: Stochastic Optimizer: Maximum iterations (200) reached and the optimization hasn't converged yet.\n",
            "  warnings.warn(\n",
            "c:\\Users\\giannos\\Anaconda3\\envs\\tf-gpu\\lib\\site-packages\\sklearn\\neural_network\\_multilayer_perceptron.py:692: ConvergenceWarning: Stochastic Optimizer: Maximum iterations (200) reached and the optimization hasn't converged yet.\n",
            "  warnings.warn(\n",
            "c:\\Users\\giannos\\Anaconda3\\envs\\tf-gpu\\lib\\site-packages\\sklearn\\neural_network\\_multilayer_perceptron.py:692: ConvergenceWarning: Stochastic Optimizer: Maximum iterations (200) reached and the optimization hasn't converged yet.\n",
            "  warnings.warn(\n",
            "c:\\Users\\giannos\\Anaconda3\\envs\\tf-gpu\\lib\\site-packages\\sklearn\\neural_network\\_multilayer_perceptron.py:692: ConvergenceWarning: Stochastic Optimizer: Maximum iterations (200) reached and the optimization hasn't converged yet.\n",
            "  warnings.warn(\n",
            "c:\\Users\\giannos\\Anaconda3\\envs\\tf-gpu\\lib\\site-packages\\sklearn\\neural_network\\_multilayer_perceptron.py:692: ConvergenceWarning: Stochastic Optimizer: Maximum iterations (200) reached and the optimization hasn't converged yet.\n",
            "  warnings.warn(\n",
            "c:\\Users\\giannos\\Anaconda3\\envs\\tf-gpu\\lib\\site-packages\\sklearn\\neural_network\\_multilayer_perceptron.py:692: ConvergenceWarning: Stochastic Optimizer: Maximum iterations (200) reached and the optimization hasn't converged yet.\n",
            "  warnings.warn(\n",
            "c:\\Users\\giannos\\Anaconda3\\envs\\tf-gpu\\lib\\site-packages\\sklearn\\neural_network\\_multilayer_perceptron.py:692: ConvergenceWarning: Stochastic Optimizer: Maximum iterations (200) reached and the optimization hasn't converged yet.\n",
            "  warnings.warn(\n",
            "c:\\Users\\giannos\\Anaconda3\\envs\\tf-gpu\\lib\\site-packages\\sklearn\\neural_network\\_multilayer_perceptron.py:692: ConvergenceWarning: Stochastic Optimizer: Maximum iterations (200) reached and the optimization hasn't converged yet.\n",
            "  warnings.warn(\n",
            "c:\\Users\\giannos\\Anaconda3\\envs\\tf-gpu\\lib\\site-packages\\sklearn\\neural_network\\_multilayer_perceptron.py:692: ConvergenceWarning: Stochastic Optimizer: Maximum iterations (200) reached and the optimization hasn't converged yet.\n",
            "  warnings.warn(\n",
            "c:\\Users\\giannos\\Anaconda3\\envs\\tf-gpu\\lib\\site-packages\\sklearn\\neural_network\\_multilayer_perceptron.py:692: ConvergenceWarning: Stochastic Optimizer: Maximum iterations (200) reached and the optimization hasn't converged yet.\n",
            "  warnings.warn(\n",
            "c:\\Users\\giannos\\Anaconda3\\envs\\tf-gpu\\lib\\site-packages\\sklearn\\neural_network\\_multilayer_perceptron.py:692: ConvergenceWarning: Stochastic Optimizer: Maximum iterations (200) reached and the optimization hasn't converged yet.\n",
            "  warnings.warn(\n"
          ]
        },
        {
          "data": {
            "text/plain": [
              "GridSearchCV(cv=KFold(n_splits=5, random_state=None, shuffle=False),\n",
              "             estimator=RandomForestClassifier(),\n",
              "             param_grid={'max_depth': [None, 5, 10, 15, 20],\n",
              "                         'min_samples_leaf': [1, 2, 4],\n",
              "                         'min_samples_split': [2, 5, 10],\n",
              "                         'n_estimators': [1, 5, 10]})"
            ]
          },
          "execution_count": 46,
          "metadata": {},
          "output_type": "execute_result"
        }
      ],
      "source": [
        "from sklearn.model_selection import GridSearchCV,KFold \n",
        "import numpy as np\n",
        "\n",
        "gnb = GaussianNB()\n",
        "neigh = KNeighborsClassifier()\n",
        "mlp = MLPClassifier()\n",
        "dt = DecisionTreeClassifier()\n",
        "rfc = RandomForestClassifier()\n",
        "\n",
        "param_grid_gnb = {'var_smoothing': np.logspace(0, -9, num=100)}\n",
        "param_grid_neigh = {'n_neighbors': np.arange(1, 11, 2)}\n",
        "param_grid_mlp = {\n",
        "    'hidden_layer_sizes': [(10,), (50,), (100,), (150,), (200,)],\n",
        "    'activation': ['logistic', 'tanh', 'relu'],\n",
        "    'alpha': [0.0001, 0.001, 0.01],\n",
        "    'solver': ['adam', 'sgd']\n",
        "}\n",
        "param_grid_dt = {\n",
        "    'max_depth': [None, 5, 10, 15, 20],\n",
        "    'min_samples_split': [2, 5, 10],\n",
        "    'min_samples_leaf': [1, 2, 4],\n",
        "}\n",
        "param_grid_rfc = {\n",
        "    'n_estimators': [1,5,10],\n",
        "    'max_depth': [None, 5, 10, 15, 20],\n",
        "    'min_samples_split': [2, 5, 10],\n",
        "    'min_samples_leaf': [1, 2, 4],\n",
        "}\n",
        "\n",
        "\n",
        "kfold = KFold(n_splits=5)\n",
        "\n",
        "gs_gnb = GridSearchCV(gnb, cv=kfold, param_grid=param_grid_gnb)\n",
        "gs_neigh = GridSearchCV(neigh, cv=kfold, param_grid=param_grid_neigh)\n",
        "gs_mlp = GridSearchCV(mlp, cv=kfold, param_grid=param_grid_mlp)\n",
        "gs_dt = GridSearchCV(dt, cv=kfold, param_grid=param_grid_dt)\n",
        "gs_rfc = GridSearchCV(rfc, cv=kfold, param_grid=param_grid_rfc)\n",
        "\n",
        "\n",
        "gs_gnb.fit(X_train, y_train)\n",
        "gs_neigh.fit(X_train, y_train)\n",
        "gs_mlp.fit(X_train, y_train)\n",
        "gs_dt.fit(X_train, y_train)\n",
        "gs_rfc.fit(X_train, y_train)\n"
      ]
    },
    {
      "cell_type": "code",
      "execution_count": 47,
      "metadata": {},
      "outputs": [],
      "source": [
        "# The code in this cell uses gridsearch with 5 fold cross validation to optimize the hyperparameters of each classifier.\n",
        "# I searched the parameters of each classifier on sklearn and i found similar classification examples on stackoverflow so that i \n",
        "# choose the hyperparameters and their  values that gridsearch will search and after some experiments i choose the following parameters."
      ]
    },
    {
      "cell_type": "code",
      "execution_count": 56,
      "metadata": {},
      "outputs": [
        {
          "name": "stdout",
          "output_type": "stream",
          "text": [
            "Naive Bayes : {'var_smoothing': 0.8111308307896871}\n",
            "KNeighbors : {'n_neighbors': 1}\n",
            "MLP : {'activation': 'relu', 'alpha': 0.01, 'hidden_layer_sizes': (200,), 'solver': 'adam'}\n",
            "Decision Tree : {'max_depth': 15, 'min_samples_leaf': 1, 'min_samples_split': 2}\n",
            "Random Forest : {'max_depth': None, 'min_samples_leaf': 1, 'min_samples_split': 2, 'n_estimators': 10}\n"
          ]
        }
      ],
      "source": [
        "print('Naive Bayes :', gs_gnb.best_params_)\n",
        "print('KNeighbors :', gs_neigh.best_params_)\n",
        "print('MLP :', gs_mlp.best_params_)\n",
        "print('Decision Tree :', gs_dt.best_params_)\n",
        "print('Random Forest :', gs_rfc.best_params_)"
      ]
    },
    {
      "cell_type": "code",
      "execution_count": 49,
      "metadata": {},
      "outputs": [],
      "source": [
        "# Here we see the best values for the parameters of each classifier respectively.\n",
        "\n",
        "# NaiveBayes, KNeighbors and MLP classifiers have different optimal parameters than their default ones.\n",
        "# Also i keep one hidden layer on MLP on optimization as requested before and i only change the number of units \n",
        "# on the tuple parameter 'hidden_layer_sizes' the rows have different values but the columns have always value 1.\n",
        "\n",
        "# DecisionTrees classifier has the same optimal parameters as the default parameters except from 'max_depth'.\n",
        "# RandomForest has the same optimal as the default ones except from 'n_estimators' (number of trees)\n",
        "\n",
        "# So in the DecisionTrees and RandomForest accuracies we will not see big changes in performance.\n",
        "# On the other hand the optimized classifiers NaiveBayes, KNeighbors and MLP will have better prediction accuracies."
      ]
    },
    {
      "cell_type": "markdown",
      "metadata": {
        "id": "KD2jGJgUloMW"
      },
      "source": [
        "5.b. Feed the trained models with samples from the test set (predict)"
      ]
    },
    {
      "cell_type": "code",
      "execution_count": 50,
      "metadata": {
        "id": "ANPd125TloMW"
      },
      "outputs": [
        {
          "name": "stdout",
          "output_type": "stream",
          "text": [
            "Naive Bayes best classifier accuracy: 0.7749699157641395\n",
            "KNeighbors best classifier accuracy: 0.9554753309265944\n",
            "MLP best classifier accuracy: 0.8339350180505415\n",
            "Decision Tree best classifier accuracy: 0.9663056558363418\n",
            "Random Forest best classifier accuracy: 0.9602888086642599\n"
          ]
        },
        {
          "name": "stderr",
          "output_type": "stream",
          "text": [
            "c:\\Users\\giannos\\Anaconda3\\envs\\tf-gpu\\lib\\site-packages\\sklearn\\neighbors\\_classification.py:228: FutureWarning: Unlike other reduction functions (e.g. `skew`, `kurtosis`), the default behavior of `mode` typically preserves the axis it acts along. In SciPy 1.11.0, this behavior will change: the default value of `keepdims` will become False, the `axis` over which the statistic is taken will be eliminated, and the value None will no longer be accepted. Set `keepdims` to True or False to avoid this warning.\n",
            "  mode, _ = stats.mode(_y[neigh_ind, k], axis=1)\n",
            "c:\\Users\\giannos\\Anaconda3\\envs\\tf-gpu\\lib\\site-packages\\sklearn\\neighbors\\_classification.py:228: FutureWarning: Unlike other reduction functions (e.g. `skew`, `kurtosis`), the default behavior of `mode` typically preserves the axis it acts along. In SciPy 1.11.0, this behavior will change: the default value of `keepdims` will become False, the `axis` over which the statistic is taken will be eliminated, and the value None will no longer be accepted. Set `keepdims` to True or False to avoid this warning.\n",
            "  mode, _ = stats.mode(_y[neigh_ind, k], axis=1)\n"
          ]
        }
      ],
      "source": [
        "y_pred_gnb = gs_gnb.best_estimator_.predict(X_test)\n",
        "y_pred_neigh = gs_neigh.best_estimator_.predict(X_test)\n",
        "y_pred_mlp = gs_mlp.best_estimator_.predict(X_test)\n",
        "y_pred_dt = gs_dt.best_estimator_.predict(X_test)\n",
        "y_pred_rfc = gs_rfc.best_estimator_.predict(X_test)\n",
        "\n",
        "print('Naive Bayes best classifier accuracy:', gs_gnb.score(X_test,y_test))\n",
        "print('KNeighbors best classifier accuracy:', gs_neigh.score(X_test,y_test))\n",
        "print('MLP best classifier accuracy:', gs_mlp.score(X_test,y_test))\n",
        "print('Decision Tree best classifier accuracy:', gs_dt.score(X_test,y_test))\n",
        "print('Random Forest best classifier accuracy:', gs_rfc.score(X_test,y_test))"
      ]
    },
    {
      "cell_type": "code",
      "execution_count": 51,
      "metadata": {},
      "outputs": [],
      "source": [
        "# Here for all classifiers the labels for the test set are predicted using the best classifier with optimized hyperparameters.\n",
        "# Also all the accuracies are printed for an initial evaluation."
      ]
    },
    {
      "cell_type": "markdown",
      "metadata": {
        "id": "hj_7xTZ-loMW"
      },
      "source": [
        "5.c. Compare the output of each model against the corresponding test set labels and evaluate their performance using the F1 score."
      ]
    },
    {
      "cell_type": "code",
      "execution_count": 52,
      "metadata": {
        "id": "YsJB5GanloMW"
      },
      "outputs": [
        {
          "name": "stdout",
          "output_type": "stream",
          "text": [
            "Naive Bayes best classifier F1 score: 0.786340073069099\n",
            "KNeighbors best classifier F1 score: 0.9552058052164937\n",
            "MLP best classifier F1 score: 0.8325739096497219\n",
            "Decision Tree best classifier F1 score: 0.9661773260331882\n",
            "Random Forest best classifier F1 score: 0.9603084743017483\n"
          ]
        }
      ],
      "source": [
        "f1_gnb = f1_score(y_pred_gnb, y_test, average=\"weighted\")\n",
        "f1_neigh = f1_score(y_pred_neigh, y_test, average=\"weighted\")\n",
        "f1_mlp = f1_score(y_pred_mlp, y_test, average=\"weighted\")\n",
        "f1_dt = f1_score(y_pred_dt, y_test, average=\"weighted\")\n",
        "f1_rfc = f1_score(y_pred_rfc, y_test, average=\"weighted\")\n",
        "\n",
        "print('Naive Bayes best classifier F1 score:', f1_gnb)\n",
        "print('KNeighbors best classifier F1 score:', f1_neigh)\n",
        "print('MLP best classifier F1 score:', f1_mlp)\n",
        "print('Decision Tree best classifier F1 score:', f1_dt)\n",
        "print('Random Forest best classifier F1 score:', f1_rfc)"
      ]
    },
    {
      "cell_type": "code",
      "execution_count": 53,
      "metadata": {},
      "outputs": [],
      "source": [
        "# In this cell the performance is evaluated with the f1 score metric on the predicted labels and the actual labels from the test set using the best classifiers from grid search."
      ]
    },
    {
      "cell_type": "markdown",
      "metadata": {
        "id": "l6vs5gOQloMW"
      },
      "source": [
        "5.d. Evaluate the overall performance of the models using a graph (eg histogram, bar plot) and comment on which model performed best."
      ]
    },
    {
      "cell_type": "code",
      "execution_count": 54,
      "metadata": {
        "id": "EsAWlUCUloMX"
      },
      "outputs": [
        {
          "data": {
            "image/png": "[encoded data removed]",
            "text/plain": [
              "<Figure size 1100x800 with 1 Axes>"
            ]
          },
          "metadata": {},
          "output_type": "display_data"
        }
      ],
      "source": [
        "fig = plt.figure(figsize =(11, 8))\n",
        "\n",
        "acc = [f1_gnb, f1_neigh, f1_mlp, f1_dt, f1_rfc]\n",
        "acc = [item * 100 for item in acc]\n",
        "\n",
        "model = ['NaiveBayes', 'KNeighbors', 'MLP', 'DecisionTree', 'RandomForest']\n",
        "plt.bar(model, acc)\n",
        "\n",
        "plt.show()"
      ]
    },
    {
      "cell_type": "code",
      "execution_count": 55,
      "metadata": {},
      "outputs": [],
      "source": [
        "# The f1 score of all the classifiers is depicted through a bar plot.\n",
        "\n",
        "# We can see that the classifiers Naive Bayes and MLP had a slight increase in their performance due to the new optimized hyperparamaters.\n",
        "# The classifier K-nearest Neighbors had a significant increase in performance after the optimization with f1 score = 0.955 from 0.795. \n",
        "# That is because the parameter K (number of neighbors) is critical to balance the bias and variance of the model and thats why it is the only hyperparameter that was optimized.\n",
        "\n",
        "# On the other hand we see after the tuning of the classifiers Decision Tree and Random Forest their hyperparameters remain almost the same.\n",
        "# That is why we dont see an increase in performance.\n",
        "# Still they have the best performance together with the optimized KNeighbors with the highest the Decision Tree with f1 score = 0.966. \n",
        "# Following the Random Forest with f1 score = 0.96."
      ]
    }
  ],
  "metadata": {
    "colab": {
      "provenance": []
    },
    "kernelspec": {
      "display_name": "Python 3",
      "name": "python3"
    },
    "language_info": {
      "codemirror_mode": {
        "name": "ipython",
        "version": 3
      },
      "file_extension": ".py",
      "mimetype": "text/x-python",
      "name": "python",
      "nbconvert_exporter": "python",
      "pygments_lexer": "ipython3",
      "version": "3.9.15"
    }
  },
  "nbformat": 4,
  "nbformat_minor": 0
}
